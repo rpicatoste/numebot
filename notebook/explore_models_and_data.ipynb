{
 "cells": [
  {
   "cell_type": "markdown",
   "id": "ae47db1d",
   "metadata": {},
   "source": [
    "#  Start notebook and load RoundManager"
   ]
  },
  {
   "cell_type": "code",
   "execution_count": null,
   "id": "weird-structure",
   "metadata": {
    "ExecuteTime": {
     "end_time": "2021-04-30T12:51:04.531590Z",
     "start_time": "2021-04-30T12:51:04.260813Z"
    }
   },
   "outputs": [],
   "source": [
    "%load_ext autoreload\n",
    "%autoreload 2\n",
    "# %matplotlib inline\n",
    "%matplotlib widget\n",
    "\n",
    "from IPython.core.interactiveshell import InteractiveShell\n",
    "InteractiveShell.ast_node_interactivity = \"all\""
   ]
  },
  {
   "cell_type": "code",
   "execution_count": null,
   "id": "e605c77d",
   "metadata": {},
   "outputs": [],
   "source": [
    "import numpy as np \n",
    "import pandas as pd\n",
    "import matplotlib.pyplot as plt\n",
    "\n",
    "pd.options.display.max_columns = 300\n",
    "\n",
    "from numebot.secret import PUBLIC_ID, SECRET_KEY\n",
    "from numebot.env import NUMERAI_DATA_FOLDER, MODEL_CONFIGS_PATH"
   ]
  },
  {
   "attachments": {},
   "cell_type": "markdown",
   "id": "efe1b11f",
   "metadata": {},
   "source": [
    "# Test numerapi, explore models' data and plot new monitoring figures."
   ]
  },
  {
   "cell_type": "code",
   "execution_count": null,
   "id": "5a1c9ecc",
   "metadata": {},
   "outputs": [],
   "source": [
    "import numerapi\n",
    "napi = numerapi.NumerAPI(verbosity=\"info\", public_id=PUBLIC_ID, secret_key=SECRET_KEY)"
   ]
  },
  {
   "cell_type": "code",
   "execution_count": null,
   "id": "c5f1ce56",
   "metadata": {},
   "outputs": [],
   "source": [
    "models_dict = napi.get_models()\n",
    "models_dict"
   ]
  },
  {
   "cell_type": "code",
   "execution_count": null,
   "id": "5b646fda",
   "metadata": {},
   "outputs": [],
   "source": [
    "napi.submission_status(models_dict['rpica']) is None\n",
    "napi.get_current_round()\n",
    "napi.check_round_open()"
   ]
  },
  {
   "cell_type": "code",
   "execution_count": null,
   "id": "c013eda6",
   "metadata": {},
   "outputs": [],
   "source": [
    "leaderboard = napi.get_leaderboard(limit=20000)\n",
    "len(leaderboard)\n",
    "my_leaderboard = list(filter(lambda subm: 'rpica' in subm['username'], leaderboard))\n",
    "my_leaderboard_df = pd.DataFrame(sorted(my_leaderboard, key=lambda x: x['corr20Rep'], reverse=True))"
   ]
  },
  {
   "cell_type": "code",
   "execution_count": null,
   "id": "a9d84a17",
   "metadata": {},
   "outputs": [],
   "source": [
    "my_leaderboard_df"
   ]
  },
  {
   "cell_type": "code",
   "execution_count": null,
   "id": "9d12f16f",
   "metadata": {},
   "outputs": [],
   "source": [
    "my_usernames = sorted(my_leaderboard_df['username'].unique())\n",
    "\n",
    "performances = {}\n",
    "for model_slot_name in my_usernames:\n",
    "    response = napi.round_model_performances(model_slot_name)\n",
    "    performances[model_slot_name] = pd.DataFrame(response)"
   ]
  },
  {
   "cell_type": "code",
   "execution_count": null,
   "id": "81e350d3",
   "metadata": {},
   "outputs": [],
   "source": [
    "n=40\n",
    "performances[model_slot_name].iloc[n:n+5]"
   ]
  },
  {
   "cell_type": "code",
   "execution_count": null,
   "id": "88d3fb5e",
   "metadata": {},
   "outputs": [],
   "source": [
    "from numebot.monitoring_v2.metrics_plots import plot_time_metrics, plot_aggregated_metrics\n",
    "plot_time_metrics(performances, my_usernames)"
   ]
  },
  {
   "cell_type": "code",
   "execution_count": null,
   "id": "1b901361",
   "metadata": {},
   "outputs": [],
   "source": [
    "plot_aggregated_metrics(performances, my_usernames, period_in_months=3)"
   ]
  },
  {
   "cell_type": "markdown",
   "id": "d53ef580",
   "metadata": {},
   "source": [
    "# Run prediction and submission steps manually"
   ]
  },
  {
   "cell_type": "code",
   "execution_count": null,
   "id": "ad5eed95",
   "metadata": {},
   "outputs": [],
   "source": [
    "from numebot.data.data_constants import NC\n",
    "from numebot.secret import PUBLIC_ID, SECRET_KEY\n",
    "from numebot.env import NUMERAI_DATA_FOLDER, MODEL_CONFIGS_PATH\n",
    "from numebot.round_manager import RoundManager\n",
    "\n",
    "\n",
    "napi = numerapi.NumerAPI(verbosity=\"info\", public_id=PUBLIC_ID, secret_key=SECRET_KEY)\n",
    "\n",
    "rm = RoundManager(NUMERAI_DATA_FOLDER,\n",
    "                  model_configs_path=MODEL_CONFIGS_PATH,\n",
    "                  public_id=PUBLIC_ID, \n",
    "                  secret_key=SECRET_KEY, \n",
    "                  #nrows=10000, testing=True  # Uncomment to set testing mode.\n",
    "                  )\n",
    "\n",
    "# Get list of models with their model file\n",
    "rm.models_info()"
   ]
  },
  {
   "cell_type": "code",
   "execution_count": null,
   "id": "d4803de1",
   "metadata": {
    "ExecuteTime": {
     "end_time": "2021-04-30T15:00:42.624609Z",
     "start_time": "2021-04-30T14:59:37.155599Z"
    }
   },
   "outputs": [],
   "source": [
    "# Get predictions for each model\n",
    "rm.generate_predictions_for_all_models()"
   ]
  },
  {
   "cell_type": "code",
   "execution_count": null,
   "id": "4f5bd867",
   "metadata": {},
   "outputs": [],
   "source": [
    "# Submit predictions (test with rpica_test_3)\n",
    "# Can I check if I submitted? (for example requesting the scoring)\n",
    "rm.submit_predictions()"
   ]
  },
  {
   "attachments": {},
   "cell_type": "markdown",
   "id": "bfc1573c",
   "metadata": {},
   "source": [
    "## Monitoring (use the dashboard)"
   ]
  },
  {
   "cell_type": "code",
   "execution_count": null,
   "id": "4d9883df",
   "metadata": {
    "scrolled": false
   },
   "outputs": [],
   "source": [
    "full_df = rm.mm.download_round_details()\n",
    "#full_df = rm.mm.load_round_details_csv()\n",
    "full_df.shape"
   ]
  },
  {
   "cell_type": "code",
   "execution_count": null,
   "id": "5631a771",
   "metadata": {
    "scrolled": false
   },
   "outputs": [],
   "source": [
    "import numebot.monitoring.metrics_plotter as mp\n",
    "\n",
    "_ = mp.plot_round_details(full_df, rounds=[262, 263])\n",
    "\n",
    "_ = mp.plot_round_details(full_df, model_names=['rpica', 'rpica_test_1'])"
   ]
  },
  {
   "attachments": {},
   "cell_type": "markdown",
   "id": "11f1ea4f",
   "metadata": {},
   "source": [
    "## Check individual model"
   ]
  },
  {
   "cell_type": "code",
   "execution_count": null,
   "id": "20871b4c",
   "metadata": {},
   "outputs": [],
   "source": [
    "rm.models_dict.keys()"
   ]
  },
  {
   "cell_type": "code",
   "execution_count": null,
   "id": "6c8d1807",
   "metadata": {},
   "outputs": [],
   "source": [
    "model = rm['rpica']"
   ]
  },
  {
   "cell_type": "code",
   "execution_count": null,
   "id": "b775427f",
   "metadata": {
    "scrolled": false
   },
   "outputs": [],
   "source": [
    "status_df = model.get_weekly_submission_status(to_be_saved=False)\n",
    "lb_df = model.get_daily_leaderboard(to_be_saved=False)\n",
    "\n",
    "status_df.head(2)\n",
    "lb_df.head(2)"
   ]
  },
  {
   "cell_type": "code",
   "execution_count": null,
   "id": "97697d7b",
   "metadata": {},
   "outputs": [],
   "source": [
    "model.train_model(rm.data)"
   ]
  },
  {
   "cell_type": "code",
   "execution_count": null,
   "id": "f6e7e66b",
   "metadata": {},
   "outputs": [],
   "source": [
    "model.predict(rm.data.tournament, to_be_saved_for_submission=False)"
   ]
  },
  {
   "cell_type": "code",
   "execution_count": null,
   "id": "4759182e",
   "metadata": {},
   "outputs": [],
   "source": [
    "model.submit_predictions()"
   ]
  },
  {
   "attachments": {},
   "cell_type": "markdown",
   "id": "concrete-separation",
   "metadata": {
    "ExecuteTime": {
     "end_time": "2021-04-05T05:53:42.006522Z",
     "start_time": "2021-04-05T05:53:41.175801Z"
    }
   },
   "source": [
    "## EDA"
   ]
  },
  {
   "cell_type": "code",
   "execution_count": null,
   "id": "selected-colonial",
   "metadata": {
    "ExecuteTime": {
     "end_time": "2021-04-05T05:55:57.896833Z",
     "start_time": "2021-04-05T05:55:57.546675Z"
    },
    "scrolled": false
   },
   "outputs": [],
   "source": [
    "for dataset, set_name in zip([rm.data.train, rm.data.val, rm.data.test, rm.data.live], ['train', 'val', 'test', 'live']):\n",
    "    print(f'Info about {set_name}: shape {dataset.shape}')\n",
    "    dataset.groupby('data_type')['era'].agg(\n",
    "        ['count',\n",
    "         'min',\n",
    "         'max', \n",
    "         pd.Series.nunique, \n",
    "         lambda x: sorted(list(np.unique(x)))\n",
    "        ])"
   ]
  },
  {
   "cell_type": "code",
   "execution_count": null,
   "id": "considerable-rugby",
   "metadata": {
    "hidden": true
   },
   "outputs": [],
   "source": []
  },
  {
   "cell_type": "code",
   "execution_count": null,
   "id": "offensive-consultancy",
   "metadata": {
    "hidden": true
   },
   "outputs": [],
   "source": []
  },
  {
   "cell_type": "code",
   "execution_count": null,
   "id": "spectacular-beverage",
   "metadata": {
    "hidden": true
   },
   "outputs": [],
   "source": []
  },
  {
   "cell_type": "code",
   "execution_count": null,
   "id": "cubic-blogger",
   "metadata": {
    "hidden": true
   },
   "outputs": [],
   "source": []
  },
  {
   "cell_type": "code",
   "execution_count": null,
   "id": "informed-camel",
   "metadata": {
    "hidden": true
   },
   "outputs": [],
   "source": []
  },
  {
   "cell_type": "code",
   "execution_count": null,
   "id": "cleared-racing",
   "metadata": {
    "hidden": true
   },
   "outputs": [],
   "source": []
  }
 ],
 "metadata": {
  "kernelspec": {
   "display_name": "numebot-thZm-WQi-py3.8",
   "language": "python",
   "name": "python3"
  },
  "language_info": {
   "codemirror_mode": {
    "name": "ipython",
    "version": 3
   },
   "file_extension": ".py",
   "mimetype": "text/x-python",
   "name": "python",
   "nbconvert_exporter": "python",
   "pygments_lexer": "ipython3",
   "version": "3.8.10"
  },
  "vscode": {
   "interpreter": {
    "hash": "67906ade5613a5250d4cd740a80f1a067c967dee0c18b07286a03cdd19c81e30"
   }
  }
 },
 "nbformat": 4,
 "nbformat_minor": 5
}
