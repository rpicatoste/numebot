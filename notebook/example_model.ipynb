{
 "cells": [
  {
   "cell_type": "code",
   "execution_count": null,
   "id": "weird-structure",
   "metadata": {
    "ExecuteTime": {
     "end_time": "2021-04-30T12:51:04.531590Z",
     "start_time": "2021-04-30T12:51:04.260813Z"
    }
   },
   "outputs": [],
   "source": [
    "%load_ext autoreload\n",
    "%autoreload 2\n",
    "%matplotlib inline\n",
    "\n",
    "from IPython.core.interactiveshell import InteractiveShell\n",
    "InteractiveShell.ast_node_interactivity = \"all\"\n",
    "\n",
    "from IPython.display import Audio, display\n",
    "def make_noise():\n",
    "    display(Audio(url='https://sound.peal.io/ps/audios/000/000/537/original/woo_vu_luvub_dub_dub.wav', autoplay=True))"
   ]
  },
  {
   "cell_type": "code",
   "execution_count": null,
   "id": "10295bcd",
   "metadata": {},
   "outputs": [],
   "source": [
    "import matplotlib.pyplot as plt\n",
    "import numpy as np\n",
    "import pandas as pd"
   ]
  },
  {
   "cell_type": "code",
   "execution_count": null,
   "id": "13a8277d",
   "metadata": {
    "ExecuteTime": {
     "end_time": "2021-04-30T14:59:33.342611Z",
     "start_time": "2021-04-30T14:59:32.685733Z"
    }
   },
   "outputs": [],
   "source": [
    "data_folder = '/home/pica/nas_pica/Data/numerai/'\n",
    "\n",
    "from numebot.data.data_constants import NC\n",
    "from numebot_private.round_manager_extended import RoundManagerExtended\n",
    "from numebot.secret import PUBLIC_ID, SECRET_KEY\n",
    "\n",
    "rm = RoundManagerExtended(\n",
    "    data_folder, \n",
    "    public_id=PUBLIC_ID, \n",
    "    secret_key=SECRET_KEY, \n",
    "    testing=True, nrows=1000,\n",
    "    verbose=False,\n",
    ")\n",
    "\n",
    "# Get list of models with their model file\n",
    "rm.models_info()"
   ]
  },
  {
   "cell_type": "code",
   "execution_count": null,
   "id": "79744582",
   "metadata": {},
   "outputs": [],
   "source": [
    "# train example model on noisy data\n",
    "model = rm['example_model']\n",
    "\n",
    "# model.train_model(rm.data)\n",
    "output = model.predict(rm.data.tournament)\n",
    "\n",
    "make_noise()"
   ]
  },
  {
   "cell_type": "code",
   "execution_count": null,
   "id": "6a0b6c9e",
   "metadata": {},
   "outputs": [],
   "source": [
    "_ = plt.figure(figsize=(12, 4))\n",
    "ax = plt.subplot(1, 1, 1)\n",
    "_ = output.hist(bins=100, ax=ax)\n",
    "_ = rm.data.tournament[NC.target].hist(bins=100)"
   ]
  },
  {
   "cell_type": "code",
   "execution_count": null,
   "id": "considerable-rugby",
   "metadata": {
    "hidden": true
   },
   "outputs": [],
   "source": []
  },
  {
   "cell_type": "code",
   "execution_count": null,
   "id": "offensive-consultancy",
   "metadata": {
    "hidden": true
   },
   "outputs": [],
   "source": []
  },
  {
   "cell_type": "code",
   "execution_count": null,
   "id": "spectacular-beverage",
   "metadata": {
    "hidden": true
   },
   "outputs": [],
   "source": []
  },
  {
   "cell_type": "code",
   "execution_count": null,
   "id": "cubic-blogger",
   "metadata": {
    "hidden": true
   },
   "outputs": [],
   "source": []
  },
  {
   "cell_type": "code",
   "execution_count": null,
   "id": "informed-camel",
   "metadata": {
    "hidden": true
   },
   "outputs": [],
   "source": []
  },
  {
   "cell_type": "code",
   "execution_count": null,
   "id": "cleared-racing",
   "metadata": {
    "hidden": true
   },
   "outputs": [],
   "source": []
  }
 ],
 "metadata": {
  "kernelspec": {
   "display_name": "Python 3",
   "language": "python",
   "name": "python3"
  },
  "language_info": {
   "codemirror_mode": {
    "name": "ipython",
    "version": 3
   },
   "file_extension": ".py",
   "mimetype": "text/x-python",
   "name": "python",
   "nbconvert_exporter": "python",
   "pygments_lexer": "ipython3",
   "version": "3.7.10"
  }
 },
 "nbformat": 4,
 "nbformat_minor": 5
}
