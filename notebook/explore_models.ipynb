{
 "cells": [
  {
   "cell_type": "code",
   "execution_count": 3,
   "id": "weird-structure",
   "metadata": {
    "ExecuteTime": {
     "end_time": "2021-04-30T12:51:04.531590Z",
     "start_time": "2021-04-30T12:51:04.260813Z"
    }
   },
   "outputs": [
    {
     "name": "stdout",
     "output_type": "stream",
     "text": [
      "The autoreload extension is already loaded. To reload it, use:\n",
      "  %reload_ext autoreload\n"
     ]
    }
   ],
   "source": [
    "%load_ext autoreload\n",
    "%autoreload 2\n",
    "%matplotlib inline\n",
    "\n",
    "from IPython.core.interactiveshell import InteractiveShell\n",
    "InteractiveShell.ast_node_interactivity = \"all\"\n",
    "\n",
    "from IPython.display import Audio, display\n",
    "def make_noise():\n",
    "    display(Audio(url='https://sound.peal.io/ps/audios/000/000/537/original/woo_vu_luvub_dub_dub.wav', autoplay=True))\n"
   ]
  },
  {
   "cell_type": "code",
   "execution_count": 2,
   "id": "13a8277d",
   "metadata": {
    "ExecuteTime": {
     "end_time": "2021-04-30T14:59:33.342611Z",
     "start_time": "2021-04-30T14:59:32.685733Z"
    }
   },
   "outputs": [
    {
     "name": "stdout",
     "output_type": "stream",
     "text": [
      "Current round: 262\n",
      "Creating <class 'numebot.models.example_model.ExampleModel'>\n",
      "Loading pre-trained model...\n",
      "\n",
      "ERROR: Model rpica_test_1 could not be added to the models list.\n",
      "Can't instantiate abstract class NumeraiModel with abstract methods load_model\n",
      "\n",
      "ERROR: Model rpica_test_2 could not be added to the models list.\n",
      "'float' object has no attribute 'rsplit'\n",
      "\n",
      "ERROR: Model rpica_test_3 could not be added to the models list.\n",
      "'float' object has no attribute 'rsplit'\n"
     ]
    },
    {
     "name": "stderr",
     "output_type": "stream",
     "text": [
      "2021-05-03 10:46:13,692 INFO numerapi.base_api: target file already exists\n"
     ]
    },
    {
     "name": "stdout",
     "output_type": "stream",
     "text": [
      "\n",
      "Model name: rpica\n",
      " - Code: numebot.models.example_model\n",
      " - Model folder: /home/pica/nas_pica/Data/numerai/models/rpica\n",
      " - Model file: model_rpica.xgb\n"
     ]
    }
   ],
   "source": [
    "data_folder = '/home/pica/nas_pica/Data/numerai/'\n",
    "\n",
    "\n",
    "from numebot.round_manager import RoundManager\n",
    "\n",
    "rm = RoundManager(data_folder) #, nrows=50000)\n",
    "\n",
    "# Get list of models with their model file\n",
    "rm.models_info()"
   ]
  },
  {
   "cell_type": "code",
   "execution_count": 9,
   "id": "79744582",
   "metadata": {},
   "outputs": [
    {
     "name": "stdout",
     "output_type": "stream",
     "text": [
      "Training model...\n",
      "Loading full tournament data ...\n",
      "\n",
      "Running prediction for model rpica ...\n",
      " - Rows: 1709335, columns: 313\n"
     ]
    },
    {
     "data": {
      "text/html": [
       "\n",
       "                <audio  controls=\"controls\" autoplay=\"autoplay\">\n",
       "                    <source src=\"https://sound.peal.io/ps/audios/000/000/537/original/woo_vu_luvub_dub_dub.wav\" type=\"audio/x-wav\" />\n",
       "                    Your browser does not support the audio element.\n",
       "                </audio>\n",
       "              "
      ],
      "text/plain": [
       "<IPython.lib.display.Audio object>"
      ]
     },
     "metadata": {},
     "output_type": "display_data"
    }
   ],
   "source": [
    "# train example model on noisy data\n",
    "\n",
    "# model = rm.models_dict['rpica']\n",
    "\n",
    "# print('rm.data.training', rm.data.training.shape)\n",
    "# with_noise = rm.data.noisy_training(10)\n",
    "# print('with_noise', with_noise.shape)\n",
    "\n",
    "# feature_names = [f for f in with_noise.columns if f.startswith(\"feature\")]\n",
    "print(\"Training model...\")\n",
    "#model.model.fit(with_noise[feature_names], with_noise['target'])\n",
    "#model.model.save_model('example_model_trained_on_noisy_data')\n",
    "\n",
    "output = model.predict(rm.data.tournament)\n",
    "make_noise()"
   ]
  },
  {
   "cell_type": "code",
   "execution_count": 12,
   "id": "485c96ed",
   "metadata": {
    "ExecuteTime": {
     "end_time": "2021-04-30T12:52:50.376477Z",
     "start_time": "2021-04-30T12:52:50.024965Z"
    },
    "scrolled": false
   },
   "outputs": [
    {
     "name": "stdout",
     "output_type": "stream",
     "text": [
      "\n",
      "Running prediction for model rpica ...\n",
      " - Rows: 1709335, columns: 313\n"
     ]
    },
    {
     "data": {
      "text/plain": [
       "(1709335,)"
      ]
     },
     "execution_count": 12,
     "metadata": {},
     "output_type": "execute_result"
    },
    {
     "data": {
      "text/plain": [
       "id\n",
       "n0003aa52cab36c2    0.489021\n",
       "n000920ed083903f    0.491154\n",
       "n0038e640522c4a6    0.524261\n",
       "n004ac94a87dc54b    0.501441\n",
       "n0052fe97ea0c05f    0.500501\n",
       "dtype: float32"
      ]
     },
     "execution_count": 12,
     "metadata": {},
     "output_type": "execute_result"
    },
    {
     "name": "stdout",
     "output_type": "stream",
     "text": [
      "columns: Index(['prediction'], dtype='object')\n",
      "Saving results into: example_trained_on_noisy_data.csv\n"
     ]
    }
   ],
   "source": [
    "import pandas as pd\n",
    "# Get preds for a model\n",
    "#model = rm.models_dict['rpica']\n",
    "output = model.predict(rm.data.tournament)\n",
    "output.shape\n",
    "output.head()\n",
    "\n",
    "submission_path = \"example_trained_on_noisy_data.csv\"\n",
    "output = pd.DataFrame(output).rename({0: 'prediction'}, axis=1)\n",
    "print('columns:', output.columns)\n",
    "print(f'Saving results into: {submission_path}')\n",
    "output.to_csv(submission_path, header=True)\n",
    "# Get performance of the model"
   ]
  },
  {
   "cell_type": "code",
   "execution_count": 4,
   "id": "6a0b6c9e",
   "metadata": {},
   "outputs": [
    {
     "data": {
      "text/plain": [
       "<AxesSubplot:>"
      ]
     },
     "execution_count": 4,
     "metadata": {},
     "output_type": "execute_result"
    },
    {
     "data": {
      "image/png": "[encoded data removed]",
      "text/plain": [
       "<Figure size 432x288 with 1 Axes>"
      ]
     },
     "metadata": {
      "needs_background": "light"
     },
     "output_type": "display_data"
    }
   ],
   "source": [
    "output.hist()"
   ]
  },
  {
   "cell_type": "code",
   "execution_count": 5,
   "id": "d4803de1",
   "metadata": {
    "ExecuteTime": {
     "end_time": "2021-04-30T15:00:42.624609Z",
     "start_time": "2021-04-30T14:59:37.155599Z"
    }
   },
   "outputs": [
    {
     "name": "stdout",
     "output_type": "stream",
     "text": [
      "\n",
      "Running prediction for model rpica ...\n",
      " - Rows: 1709335, columns: 313\n",
      "columns: Index(['prediction'], dtype='object')\n",
      "Saving results into: /home/pica/nas_pica/Data/numerai/models/rpica/rpica_submission_262.csv\n"
     ]
    }
   ],
   "source": [
    "# Get predictions for each model\n",
    "rm.generate_predictions_for_all_models()"
   ]
  },
  {
   "cell_type": "code",
   "execution_count": null,
   "id": "258b3cbb",
   "metadata": {},
   "outputs": [],
   "source": [
    "# Submit predictions (test with rpica_test_3)\n",
    "# Can I check if I submitted? (for example requesting the scoring)\n"
   ]
  },
  {
   "cell_type": "code",
   "execution_count": 10,
   "id": "olympic-management",
   "metadata": {
    "ExecuteTime": {
     "end_time": "2021-04-18T10:22:54.328888Z",
     "start_time": "2021-04-18T10:22:54.308464Z"
    },
    "scrolled": true
   },
   "outputs": [
    {
     "name": "stdout",
     "output_type": "stream",
     "text": [
      "PUBLIC_DATASETS_URL\n",
      "check_new_round\n",
      "daily_submissions_performances\n",
      "daily_user_performances\n",
      "download_current_dataset\n",
      "download_latest_data\n",
      "get_account\n",
      "get_account_transactions\n",
      "get_competitions\n",
      "get_current_round\n",
      "get_dataset_url\n",
      "get_latest_data_url\n",
      "get_leaderboard\n",
      "get_models\n",
      "get_payments\n",
      "get_submission_filenames\n",
      "get_transactions\n",
      "get_user\n",
      "get_user_activities\n",
      "logger\n",
      "public_user_profile\n",
      "raw_query\n",
      "round_details\n",
      "set_submission_webhook\n",
      "show_progress_bars\n",
      "stake_change\n",
      "stake_decrease\n",
      "stake_drain\n",
      "stake_get\n",
      "stake_increase\n",
      "stake_set\n",
      "submission_id\n",
      "submission_status\n",
      "token\n",
      "tournament_id\n",
      "upload_predictions\n"
     ]
    }
   ],
   "source": [
    "_=[print(attr) for attr in dir(napi) if not attr.startswith('_')]"
   ]
  },
  {
   "cell_type": "code",
   "execution_count": 10,
   "id": "8838ec2d",
   "metadata": {
    "ExecuteTime": {
     "end_time": "2021-04-18T12:00:02.754938Z",
     "start_time": "2021-04-18T12:00:02.056765Z"
    }
   },
   "outputs": [
    {
     "name": "stderr",
     "output_type": "stream",
     "text": [
      "2021-05-02 17:28:09,789 INFO numerapi.base_api: getting rounds...\n"
     ]
    },
    {
     "data": {
      "text/plain": [
       "[{'datasetId': 'NULL',\n",
       "  'number': 256,\n",
       "  'openTime': datetime.datetime(2021, 3, 20, 18, 0, tzinfo=tzutc()),\n",
       "  'participants': 3983,\n",
       "  'prizePoolNmr': None,\n",
       "  'prizePoolUsd': None,\n",
       "  'resolveTime': datetime.datetime(2021, 4, 21, 20, 0, tzinfo=tzutc()),\n",
       "  'resolvedGeneral': True,\n",
       "  'resolvedStaking': True,\n",
       "  'ruleset': None},\n",
       " {'datasetId': 'NULL',\n",
       "  'number': 255,\n",
       "  'openTime': datetime.datetime(2021, 3, 13, 18, 0, tzinfo=tzutc()),\n",
       "  'participants': 3894,\n",
       "  'prizePoolNmr': None,\n",
       "  'prizePoolUsd': None,\n",
       "  'resolveTime': datetime.datetime(2021, 4, 14, 20, 0, tzinfo=tzutc()),\n",
       "  'resolvedGeneral': True,\n",
       "  'resolvedStaking': True,\n",
       "  'ruleset': None}]"
      ]
     },
     "execution_count": 10,
     "metadata": {},
     "output_type": "execute_result"
    }
   ],
   "source": [
    "# get competitions\n",
    "all_competitions = rm.napi.get_competitions()\n",
    "all_competitions[6:8]"
   ]
  },
  {
   "cell_type": "code",
   "execution_count": 24,
   "id": "3618a9cf",
   "metadata": {
    "ExecuteTime": {
     "end_time": "2021-04-18T12:04:03.892129Z",
     "start_time": "2021-04-18T12:04:00.596787Z"
    }
   },
   "outputs": [
    {
     "data": {
      "text/plain": [
       "6767"
      ]
     },
     "execution_count": 24,
     "metadata": {},
     "output_type": "execute_result"
    }
   ],
   "source": [
    "# get leaderboard for the current round\n",
    "leaderboard = rm.napi.get_leaderboard(limit=10000)\n",
    "len(leaderboard)\n",
    "leaderboard_dict = {competitor['username']:competitor for competitor in leaderboard}"
   ]
  },
  {
   "cell_type": "code",
   "execution_count": 26,
   "id": "e35e66b3",
   "metadata": {
    "ExecuteTime": {
     "end_time": "2021-04-18T12:04:37.908278Z",
     "start_time": "2021-04-18T12:04:37.890429Z"
    }
   },
   "outputs": [
    {
     "data": {
      "text/plain": [
       "{'averageCorrelationPayout': None,\n",
       " 'badges': [],\n",
       " 'bonusPerc': 0.0,\n",
       " 'leaderboardBonus': '0.000000000000000000',\n",
       " 'nmrStaked': Decimal('0E-18'),\n",
       " 'oldStakeValue': None,\n",
       " 'payoutPending': '0.000000000000000000',\n",
       " 'payoutSettled': '0.000000000000000000',\n",
       " 'prevRank': 5130,\n",
       " 'prevStakedRank': None,\n",
       " 'rank': 4984,\n",
       " 'reputation': 0.0,\n",
       " 'rolling_score_rep': -0.0920214925612844,\n",
       " 'stakedRank': None,\n",
       " 'tier': '?',\n",
       " 'username': 'rpica'}"
      ]
     },
     "execution_count": 26,
     "metadata": {},
     "output_type": "execute_result"
    },
    {
     "data": {
      "text/plain": [
       "{'averageCorrelationPayout': None,\n",
       " 'badges': [],\n",
       " 'bonusPerc': 0.0,\n",
       " 'leaderboardBonus': '0.000000000000000000',\n",
       " 'nmrStaked': Decimal('0.500000000000000000'),\n",
       " 'oldStakeValue': None,\n",
       " 'payoutPending': '0.001335705381102667',\n",
       " 'payoutSettled': '0.001335705381102667',\n",
       " 'prevRank': 5310,\n",
       " 'prevStakedRank': 3345,\n",
       " 'rank': 5294,\n",
       " 'reputation': 0.0,\n",
       " 'rolling_score_rep': -0.0940263017091988,\n",
       " 'stakedRank': 3335,\n",
       " 'tier': '?',\n",
       " 'username': 'rpica_test_1'}"
      ]
     },
     "execution_count": 26,
     "metadata": {},
     "output_type": "execute_result"
    }
   ],
   "source": [
    "leaderboard_dict['rpica']\n",
    "leaderboard_dict['rpica_test_1']"
   ]
  },
  {
   "cell_type": "code",
   "execution_count": 12,
   "id": "de656e4c",
   "metadata": {
    "ExecuteTime": {
     "end_time": "2021-04-18T15:19:57.748778Z",
     "start_time": "2021-04-18T15:19:57.740475Z"
    }
   },
   "outputs": [
    {
     "name": "stdout",
     "output_type": "stream",
     "text": [
      "no new round within the last 24 hours\n"
     ]
    }
   ],
   "source": [
    "# check if a new round has started\n",
    "if rm.napi.check_new_round():\n",
    "    print(\"new round has started wihtin the last 24hours!\")\n",
    "else:\n",
    "    print(\"no new round within the last 24 hours\")"
   ]
  },
  {
   "cell_type": "code",
   "execution_count": 14,
   "id": "9bd1ab69",
   "metadata": {
    "ExecuteTime": {
     "end_time": "2021-04-18T15:28:57.860843Z",
     "start_time": "2021-04-18T15:28:57.843052Z"
    }
   },
   "outputs": [
    {
     "name": "stdout",
     "output_type": "stream",
     "text": [
      "Loading credential data:\n",
      " - Current folder: /home/pica/workspace/numebot/notebook\n",
      " - .secret path:   /home/pica/workspace/numebot/.secret\n",
      " - Credentials loaded: odict_keys(['PUBLIC_KEY', 'PRIVATE_KEY'])\n"
     ]
    }
   ],
   "source": [
    "# provide api tokens\n",
    "from numebot.secret import PUBLIC_ID, SECRET_KEY\n",
    "\n",
    "\n",
    "import numerapi\n",
    "napi = numerapi.NumerAPI(PUBLIC_ID, SECRET_KEY)\n",
    "\n",
    "models_dict = napi.get_models()\n",
    "\n",
    "# upload predictions\n",
    "#submission_id = napi.upload_predictions(\"preds.csv\", tournament=1)\n",
    "# check submission status\n",
    "napi.submission_status(model_id=models_dict['rpica'])"
   ]
  },
  {
   "cell_type": "code",
   "execution_count": 6,
   "id": "humanitarian-emphasis",
   "metadata": {
    "ExecuteTime": {
     "end_time": "2021-04-05T05:09:07.196374Z",
     "start_time": "2021-04-05T05:08:25.742862Z"
    }
   },
   "outputs": [
    {
     "data": {
      "text/plain": [
       "(1687616, 313)"
      ]
     },
     "execution_count": 6,
     "metadata": {},
     "output_type": "execute_result"
    }
   ],
   "source": [
    "import pandas as pd\n",
    "from xgboost import XGBRegressor\n",
    "from pathlib import Path\n",
    "\n",
    "DATA_FOLDER = Path('/home/pica/hdd/nas/Data/numerai/21-03-14 weekly/')\n",
    "DATA_FOLDER = Path('/home/pica/hdd/nas/Data/numerai/numerai_dataset_258/')\n",
    "OUTPUT_FOLDER = Path('/home/pica/hdd/nas/Data/numerai/output/')\n",
    "\n",
    "# training data contains features and targets\n",
    "training_data = pd.read_csv(DATA_FOLDER/\"numerai_training_data.csv\").set_index(\"id\")\n",
    "\n",
    "# tournament data contains features only\n",
    "tournament_data = pd.read_csv(DATA_FOLDER/\"numerai_tournament_data.csv\").set_index(\"id\")\n",
    "feature_names = [f for f in training_data.columns if \"feature\" in f]\n",
    "\n",
    "live_data = tournament_data[tournament_data['data_type'] == 'live']\n",
    "tournament_data = tournament_data[tournament_data['data_type'] != 'live']\n",
    "\n",
    "training_data['era'] = training_data['era'].str.lstrip('era').astype(int)\n",
    "tournament_data['era'] = tournament_data['era'].str.lstrip('era').astype(int)\n",
    "live_data['era'] = live_data['era'].str.lstrip('era')\n",
    "\n",
    "training_data.shape\n",
    "tournament_data.shape\n",
    "live_data.shape"
   ]
  },
  {
   "cell_type": "markdown",
   "id": "concrete-separation",
   "metadata": {
    "ExecuteTime": {
     "end_time": "2021-04-05T05:53:42.006522Z",
     "start_time": "2021-04-05T05:53:41.175801Z"
    }
   },
   "source": [
    "## EDA"
   ]
  },
  {
   "cell_type": "code",
   "execution_count": 16,
   "id": "plastic-mount",
   "metadata": {
    "ExecuteTime": {
     "end_time": "2021-04-05T05:19:28.947784Z",
     "start_time": "2021-04-05T05:19:28.898546Z"
    }
   },
   "outputs": [
    {
     "name": "stdout",
     "output_type": "stream",
     "text": [
      "<class 'pandas.core.frame.DataFrame'>\n",
      "Index: 501808 entries, n000315175b67977 to nffba5460b572cfa\n",
      "Columns: 313 entries, era to target\n",
      "dtypes: float64(311), object(2)\n",
      "memory usage: 1.2+ GB\n",
      "<class 'pandas.core.frame.DataFrame'>\n",
      "Index: 1687616 entries, n0003aa52cab36c2 to nfffae0a5193a0c9\n",
      "Columns: 313 entries, era to target\n",
      "dtypes: float64(311), object(2)\n",
      "memory usage: 4.0+ GB\n"
     ]
    }
   ],
   "source": [
    "training_data.info()\n",
    "live_data.info()\n",
    "tournament_data.info()"
   ]
  },
  {
   "cell_type": "code",
   "execution_count": 23,
   "id": "chubby-tobago",
   "metadata": {
    "ExecuteTime": {
     "end_time": "2021-04-05T05:45:49.076194Z",
     "start_time": "2021-04-05T05:45:49.059023Z"
    }
   },
   "outputs": [],
   "source": [
    "import numpy as np"
   ]
  },
  {
   "cell_type": "code",
   "execution_count": 40,
   "id": "selected-colonial",
   "metadata": {
    "ExecuteTime": {
     "end_time": "2021-04-05T05:55:57.896833Z",
     "start_time": "2021-04-05T05:55:57.546675Z"
    },
    "scrolled": false
   },
   "outputs": [
    {
     "name": "stdout",
     "output_type": "stream",
     "text": [
      "Info about training: shape (501808, 313)\n"
     ]
    },
    {
     "data": {
      "text/html": [
       "<div>\n",
       "<style scoped>\n",
       "    .dataframe tbody tr th:only-of-type {\n",
       "        vertical-align: middle;\n",
       "    }\n",
       "\n",
       "    .dataframe tbody tr th {\n",
       "        vertical-align: top;\n",
       "    }\n",
       "\n",
       "    .dataframe thead th {\n",
       "        text-align: right;\n",
       "    }\n",
       "</style>\n",
       "<table border=\"1\" class=\"dataframe\">\n",
       "  <thead>\n",
       "    <tr style=\"text-align: right;\">\n",
       "      <th></th>\n",
       "      <th>count</th>\n",
       "      <th>min</th>\n",
       "      <th>max</th>\n",
       "      <th>nunique</th>\n",
       "      <th>&lt;lambda_0&gt;</th>\n",
       "    </tr>\n",
       "    <tr>\n",
       "      <th>data_type</th>\n",
       "      <th></th>\n",
       "      <th></th>\n",
       "      <th></th>\n",
       "      <th></th>\n",
       "      <th></th>\n",
       "    </tr>\n",
       "  </thead>\n",
       "  <tbody>\n",
       "    <tr>\n",
       "      <th>train</th>\n",
       "      <td>501808</td>\n",
       "      <td>1</td>\n",
       "      <td>120</td>\n",
       "      <td>120</td>\n",
       "      <td>[1, 2, 3, 4, 5, 6, 7, 8, 9, 10, 11, 12, 13, 14...</td>\n",
       "    </tr>\n",
       "  </tbody>\n",
       "</table>\n",
       "</div>"
      ],
      "text/plain": [
       "            count  min  max  nunique  \\\n",
       "data_type                              \n",
       "train      501808    1  120      120   \n",
       "\n",
       "                                                  <lambda_0>  \n",
       "data_type                                                     \n",
       "train      [1, 2, 3, 4, 5, 6, 7, 8, 9, 10, 11, 12, 13, 14...  "
      ]
     },
     "execution_count": 40,
     "metadata": {},
     "output_type": "execute_result"
    },
    {
     "name": "stdout",
     "output_type": "stream",
     "text": [
      "Info about tournament: shape (1682185, 313)\n"
     ]
    },
    {
     "data": {
      "text/html": [
       "<div>\n",
       "<style scoped>\n",
       "    .dataframe tbody tr th:only-of-type {\n",
       "        vertical-align: middle;\n",
       "    }\n",
       "\n",
       "    .dataframe tbody tr th {\n",
       "        vertical-align: top;\n",
       "    }\n",
       "\n",
       "    .dataframe thead th {\n",
       "        text-align: right;\n",
       "    }\n",
       "</style>\n",
       "<table border=\"1\" class=\"dataframe\">\n",
       "  <thead>\n",
       "    <tr style=\"text-align: right;\">\n",
       "      <th></th>\n",
       "      <th>count</th>\n",
       "      <th>min</th>\n",
       "      <th>max</th>\n",
       "      <th>nunique</th>\n",
       "      <th>&lt;lambda_0&gt;</th>\n",
       "    </tr>\n",
       "    <tr>\n",
       "      <th>data_type</th>\n",
       "      <th></th>\n",
       "      <th></th>\n",
       "      <th></th>\n",
       "      <th></th>\n",
       "      <th></th>\n",
       "    </tr>\n",
       "  </thead>\n",
       "  <tbody>\n",
       "    <tr>\n",
       "      <th>test</th>\n",
       "      <td>1544406</td>\n",
       "      <td>575</td>\n",
       "      <td>952</td>\n",
       "      <td>304</td>\n",
       "      <td>[575, 576, 577, 578, 579, 580, 581, 582, 583, ...</td>\n",
       "    </tr>\n",
       "    <tr>\n",
       "      <th>validation</th>\n",
       "      <td>137779</td>\n",
       "      <td>121</td>\n",
       "      <td>212</td>\n",
       "      <td>28</td>\n",
       "      <td>[121, 122, 123, 124, 125, 126, 127, 128, 129, ...</td>\n",
       "    </tr>\n",
       "  </tbody>\n",
       "</table>\n",
       "</div>"
      ],
      "text/plain": [
       "              count  min  max  nunique  \\\n",
       "data_type                                \n",
       "test        1544406  575  952      304   \n",
       "validation   137779  121  212       28   \n",
       "\n",
       "                                                   <lambda_0>  \n",
       "data_type                                                      \n",
       "test        [575, 576, 577, 578, 579, 580, 581, 582, 583, ...  \n",
       "validation  [121, 122, 123, 124, 125, 126, 127, 128, 129, ...  "
      ]
     },
     "execution_count": 40,
     "metadata": {},
     "output_type": "execute_result"
    },
    {
     "name": "stdout",
     "output_type": "stream",
     "text": [
      "Info about live: shape (5431, 313)\n"
     ]
    },
    {
     "data": {
      "text/html": [
       "<div>\n",
       "<style scoped>\n",
       "    .dataframe tbody tr th:only-of-type {\n",
       "        vertical-align: middle;\n",
       "    }\n",
       "\n",
       "    .dataframe tbody tr th {\n",
       "        vertical-align: top;\n",
       "    }\n",
       "\n",
       "    .dataframe thead th {\n",
       "        text-align: right;\n",
       "    }\n",
       "</style>\n",
       "<table border=\"1\" class=\"dataframe\">\n",
       "  <thead>\n",
       "    <tr style=\"text-align: right;\">\n",
       "      <th></th>\n",
       "      <th>count</th>\n",
       "      <th>min</th>\n",
       "      <th>max</th>\n",
       "      <th>nunique</th>\n",
       "      <th>&lt;lambda_0&gt;</th>\n",
       "    </tr>\n",
       "    <tr>\n",
       "      <th>data_type</th>\n",
       "      <th></th>\n",
       "      <th></th>\n",
       "      <th></th>\n",
       "      <th></th>\n",
       "      <th></th>\n",
       "    </tr>\n",
       "  </thead>\n",
       "  <tbody>\n",
       "    <tr>\n",
       "      <th>live</th>\n",
       "      <td>5431</td>\n",
       "      <td>X</td>\n",
       "      <td>X</td>\n",
       "      <td>1</td>\n",
       "      <td>[X]</td>\n",
       "    </tr>\n",
       "  </tbody>\n",
       "</table>\n",
       "</div>"
      ],
      "text/plain": [
       "           count min max  nunique <lambda_0>\n",
       "data_type                                   \n",
       "live        5431   X   X        1        [X]"
      ]
     },
     "execution_count": 40,
     "metadata": {},
     "output_type": "execute_result"
    }
   ],
   "source": [
    "for dataset, set_name in zip([training_data, tournament_data, live_data], ['training', 'tournament', 'live']):\n",
    "    print(f'Info about {set_name}: shape {dataset.shape}')\n",
    "    #dataset[[col for col in dataset.columns if 'feature' not in col]].head(2)\n",
    "    dataset.groupby('data_type')['era'].agg(['count','min','max', pd.Series.nunique, lambda x: sorted(list(np.unique(x)))])\n",
    "    \n",
    "\n",
    "train_era = training_data"
   ]
  },
  {
   "cell_type": "markdown",
   "id": "interior-headline",
   "metadata": {},
   "source": [
    "## Experiment with feature neutralization "
   ]
  },
  {
   "cell_type": "code",
   "execution_count": 42,
   "id": "heavy-removal",
   "metadata": {
    "ExecuteTime": {
     "end_time": "2021-04-05T06:54:33.037489Z",
     "start_time": "2021-04-05T06:54:33.015401Z"
    }
   },
   "outputs": [],
   "source": [
    "def neutralize(df, target=\"prediction_kazutsugi\", by=None, proportion=1.0):\n",
    "    if by is None:\n",
    "        by = [x for x in df.columns if x.startswith('feature')]\n",
    "\n",
    "    scores = df[target]\n",
    "    exposures = df[by].values\n",
    "\n",
    "    # constant column to make sure the series is completely neutral to exposures\n",
    "    exposures = np.hstack((exposures, np.array([np.mean(scores)] * len(exposures)).reshape(-1, 1)))\n",
    "\n",
    "    scores -= proportion * (exposures @ (np.linalg.pinv(exposures) @ scores.values))\n",
    "    return scores / scores.std()"
   ]
  },
  {
   "cell_type": "code",
   "execution_count": 43,
   "id": "formed-expansion",
   "metadata": {
    "ExecuteTime": {
     "end_time": "2021-04-05T06:54:33.280731Z",
     "start_time": "2021-04-05T06:54:33.262584Z"
    }
   },
   "outputs": [],
   "source": [
    "DATA_FOLDER = Path('/home/pica/hdd/nas/Data/numerai/numerai_dataset_258/')\n",
    "OUTPUT_PATH = DATA_FOLDER/'submission.csv'"
   ]
  },
  {
   "cell_type": "code",
   "execution_count": 47,
   "id": "about-insurance",
   "metadata": {
    "ExecuteTime": {
     "end_time": "2021-04-05T06:56:06.595044Z",
     "start_time": "2021-04-05T06:56:05.642542Z"
    }
   },
   "outputs": [
    {
     "data": {
      "text/plain": [
       "(1687616, 1)"
      ]
     },
     "execution_count": 47,
     "metadata": {},
     "output_type": "execute_result"
    },
    {
     "data": {
      "text/html": [
       "<div>\n",
       "<style scoped>\n",
       "    .dataframe tbody tr th:only-of-type {\n",
       "        vertical-align: middle;\n",
       "    }\n",
       "\n",
       "    .dataframe tbody tr th {\n",
       "        vertical-align: top;\n",
       "    }\n",
       "\n",
       "    .dataframe thead th {\n",
       "        text-align: right;\n",
       "    }\n",
       "</style>\n",
       "<table border=\"1\" class=\"dataframe\">\n",
       "  <thead>\n",
       "    <tr style=\"text-align: right;\">\n",
       "      <th></th>\n",
       "      <th>prediction</th>\n",
       "    </tr>\n",
       "    <tr>\n",
       "      <th>id</th>\n",
       "      <th></th>\n",
       "    </tr>\n",
       "  </thead>\n",
       "  <tbody>\n",
       "    <tr>\n",
       "      <th>n0003aa52cab36c2</th>\n",
       "      <td>0.490147</td>\n",
       "    </tr>\n",
       "    <tr>\n",
       "      <th>n000920ed083903f</th>\n",
       "      <td>0.484588</td>\n",
       "    </tr>\n",
       "  </tbody>\n",
       "</table>\n",
       "</div>"
      ],
      "text/plain": [
       "                  prediction\n",
       "id                          \n",
       "n0003aa52cab36c2    0.490147\n",
       "n000920ed083903f    0.484588"
      ]
     },
     "execution_count": 47,
     "metadata": {},
     "output_type": "execute_result"
    },
    {
     "data": {
      "text/plain": [
       "prediction    814491\n",
       "dtype: int64"
      ]
     },
     "execution_count": 47,
     "metadata": {},
     "output_type": "execute_result"
    }
   ],
   "source": [
    "outputs = pd.read_csv(OUTPUT_PATH).set_index(\"id\")\n",
    "outputs.shape\n",
    "outputs.head(2)\n",
    "len(outputs) - outputs.nunique()"
   ]
  },
  {
   "cell_type": "code",
   "execution_count": 48,
   "id": "executive-asset",
   "metadata": {
    "ExecuteTime": {
     "end_time": "2021-04-05T06:57:50.391977Z",
     "start_time": "2021-04-05T06:57:25.072076Z"
    }
   },
   "outputs": [
    {
     "data": {
      "text/plain": [
       "(1687616, 313)"
      ]
     },
     "execution_count": 48,
     "metadata": {},
     "output_type": "execute_result"
    }
   ],
   "source": [
    "tournament_data = pd.read_csv(DATA_FOLDER/\"numerai_tournament_data.csv\").set_index(\"id\")\n",
    "tournament_data.shape"
   ]
  },
  {
   "cell_type": "code",
   "execution_count": 49,
   "id": "deadly-block",
   "metadata": {
    "ExecuteTime": {
     "end_time": "2021-04-05T06:58:35.540513Z",
     "start_time": "2021-04-05T06:58:35.438592Z"
    }
   },
   "outputs": [
    {
     "data": {
      "text/plain": [
       "(1687616, 313)"
      ]
     },
     "execution_count": 49,
     "metadata": {},
     "output_type": "execute_result"
    }
   ],
   "source": [
    "tournament_data['target'] = outputs\n",
    "tournament_data.shape"
   ]
  },
  {
   "cell_type": "code",
   "execution_count": 69,
   "id": "adjacent-parade",
   "metadata": {
    "ExecuteTime": {
     "end_time": "2021-04-05T07:13:39.385373Z",
     "start_time": "2021-04-05T07:12:48.719594Z"
    }
   },
   "outputs": [],
   "source": [
    "neutralized = neutralize(tournament_data, target='target')"
   ]
  },
  {
   "cell_type": "code",
   "execution_count": 74,
   "id": "ranking-melbourne",
   "metadata": {
    "ExecuteTime": {
     "end_time": "2021-04-05T07:16:46.178955Z",
     "start_time": "2021-04-05T07:16:46.154693Z"
    }
   },
   "outputs": [
    {
     "data": {
      "text/html": [
       "<div>\n",
       "<style scoped>\n",
       "    .dataframe tbody tr th:only-of-type {\n",
       "        vertical-align: middle;\n",
       "    }\n",
       "\n",
       "    .dataframe tbody tr th {\n",
       "        vertical-align: top;\n",
       "    }\n",
       "\n",
       "    .dataframe thead th {\n",
       "        text-align: right;\n",
       "    }\n",
       "</style>\n",
       "<table border=\"1\" class=\"dataframe\">\n",
       "  <thead>\n",
       "    <tr style=\"text-align: right;\">\n",
       "      <th></th>\n",
       "      <th>target</th>\n",
       "    </tr>\n",
       "    <tr>\n",
       "      <th>id</th>\n",
       "      <th></th>\n",
       "    </tr>\n",
       "  </thead>\n",
       "  <tbody>\n",
       "    <tr>\n",
       "      <th>n0003aa52cab36c2</th>\n",
       "      <td>0.830798</td>\n",
       "    </tr>\n",
       "    <tr>\n",
       "      <th>n000920ed083903f</th>\n",
       "      <td>-0.592200</td>\n",
       "    </tr>\n",
       "  </tbody>\n",
       "</table>\n",
       "</div>"
      ],
      "text/plain": [
       "                    target\n",
       "id                        \n",
       "n0003aa52cab36c2  0.830798\n",
       "n000920ed083903f -0.592200"
      ]
     },
     "execution_count": 74,
     "metadata": {},
     "output_type": "execute_result"
    }
   ],
   "source": [
    "neutralized = pd.DataFrame(neutralized)\n",
    "neutralized.head(2)"
   ]
  },
  {
   "cell_type": "code",
   "execution_count": 85,
   "id": "compound-colonial",
   "metadata": {
    "ExecuteTime": {
     "end_time": "2021-04-05T07:20:33.055700Z",
     "start_time": "2021-04-05T07:20:33.010194Z"
    }
   },
   "outputs": [
    {
     "data": {
      "text/html": [
       "<div>\n",
       "<style scoped>\n",
       "    .dataframe tbody tr th:only-of-type {\n",
       "        vertical-align: middle;\n",
       "    }\n",
       "\n",
       "    .dataframe tbody tr th {\n",
       "        vertical-align: top;\n",
       "    }\n",
       "\n",
       "    .dataframe thead th {\n",
       "        text-align: right;\n",
       "    }\n",
       "</style>\n",
       "<table border=\"1\" class=\"dataframe\">\n",
       "  <thead>\n",
       "    <tr style=\"text-align: right;\">\n",
       "      <th></th>\n",
       "      <th>prediction</th>\n",
       "    </tr>\n",
       "    <tr>\n",
       "      <th>id</th>\n",
       "      <th></th>\n",
       "    </tr>\n",
       "  </thead>\n",
       "  <tbody>\n",
       "    <tr>\n",
       "      <th>n0003aa52cab36c2</th>\n",
       "      <td>0.830798</td>\n",
       "    </tr>\n",
       "    <tr>\n",
       "      <th>n000920ed083903f</th>\n",
       "      <td>-0.592200</td>\n",
       "    </tr>\n",
       "    <tr>\n",
       "      <th>n0038e640522c4a6</th>\n",
       "      <td>0.459127</td>\n",
       "    </tr>\n",
       "    <tr>\n",
       "      <th>n004ac94a87dc54b</th>\n",
       "      <td>0.940418</td>\n",
       "    </tr>\n",
       "    <tr>\n",
       "      <th>n0052fe97ea0c05f</th>\n",
       "      <td>-0.195255</td>\n",
       "    </tr>\n",
       "  </tbody>\n",
       "</table>\n",
       "</div>"
      ],
      "text/plain": [
       "                  prediction\n",
       "id                          \n",
       "n0003aa52cab36c2    0.830798\n",
       "n000920ed083903f   -0.592200\n",
       "n0038e640522c4a6    0.459127\n",
       "n004ac94a87dc54b    0.940418\n",
       "n0052fe97ea0c05f   -0.195255"
      ]
     },
     "execution_count": 85,
     "metadata": {},
     "output_type": "execute_result"
    }
   ],
   "source": [
    "from sklearn.preprocessing import MinMaxScaler\n",
    "scaler = MinMaxScaler()\n",
    "\n",
    "neutralized.rename({'target': 'prediction'}, axis=1, inplace=True)\n",
    "neutralized.head()\n",
    "neutralized_scaled = neutralized.copy()\n",
    "neutralized_scaled[['prediction']] = scaler.fit_transform(neutralized[['prediction']])"
   ]
  },
  {
   "cell_type": "code",
   "execution_count": 97,
   "id": "breeding-solid",
   "metadata": {
    "ExecuteTime": {
     "end_time": "2021-04-05T07:22:36.218158Z",
     "start_time": "2021-04-05T07:22:36.127964Z"
    }
   },
   "outputs": [
    {
     "data": {
      "text/html": [
       "<div>\n",
       "<style scoped>\n",
       "    .dataframe tbody tr th:only-of-type {\n",
       "        vertical-align: middle;\n",
       "    }\n",
       "\n",
       "    .dataframe tbody tr th {\n",
       "        vertical-align: top;\n",
       "    }\n",
       "\n",
       "    .dataframe thead th {\n",
       "        text-align: right;\n",
       "    }\n",
       "</style>\n",
       "<table border=\"1\" class=\"dataframe\">\n",
       "  <thead>\n",
       "    <tr style=\"text-align: right;\">\n",
       "      <th></th>\n",
       "      <th>prediction</th>\n",
       "    </tr>\n",
       "  </thead>\n",
       "  <tbody>\n",
       "    <tr>\n",
       "      <th>min</th>\n",
       "      <td>0.0</td>\n",
       "    </tr>\n",
       "    <tr>\n",
       "      <th>max</th>\n",
       "      <td>1.0</td>\n",
       "    </tr>\n",
       "  </tbody>\n",
       "</table>\n",
       "</div>"
      ],
      "text/plain": [
       "     prediction\n",
       "min         0.0\n",
       "max         1.0"
      ]
     },
     "execution_count": 97,
     "metadata": {},
     "output_type": "execute_result"
    }
   ],
   "source": [
    "neutralized_scaled.describe().loc[['min', 'max'], :]"
   ]
  },
  {
   "cell_type": "code",
   "execution_count": 98,
   "id": "advisory-spotlight",
   "metadata": {
    "ExecuteTime": {
     "end_time": "2021-04-05T07:22:51.540433Z",
     "start_time": "2021-04-05T07:22:48.655800Z"
    }
   },
   "outputs": [],
   "source": [
    "neutralized_scaled.to_csv(DATA_FOLDER/\"submission_neutralized.csv\", header=True)"
   ]
  },
  {
   "cell_type": "markdown",
   "id": "gentle-logan",
   "metadata": {
    "heading_collapsed": true
   },
   "source": [
    "## train"
   ]
  },
  {
   "cell_type": "code",
   "execution_count": 2,
   "id": "defined-williams",
   "metadata": {
    "ExecuteTime": {
     "end_time": "2021-04-01T05:03:59.312150Z",
     "start_time": "2021-04-01T05:00:40.633895Z"
    },
    "hidden": true
   },
   "outputs": [],
   "source": [
    "# train a model to make predictions on tournament data\n",
    "model = XGBRegressor(max_depth=5, learning_rate=0.01, \\\n",
    "                     n_estimators=2000, colsample_bytree=0.1, n_jobs=-1)\n",
    "model.fit(training_data[feature_names], training_data[\"target\"])\n",
    "\n",
    "# submit predictions to numer.ai\n",
    "predictions = model.predict(tournament_data[feature_names])"
   ]
  },
  {
   "cell_type": "code",
   "execution_count": 15,
   "id": "handed-document",
   "metadata": {
    "ExecuteTime": {
     "end_time": "2021-04-01T05:13:53.182746Z",
     "start_time": "2021-04-01T05:13:53.161947Z"
    },
    "hidden": true
   },
   "outputs": [],
   "source": [
    "predictions = pd.DataFrame({'predictions': predictions}, index=tournament_data.index)"
   ]
  },
  {
   "cell_type": "code",
   "execution_count": 3,
   "id": "roman-inquiry",
   "metadata": {
    "ExecuteTime": {
     "end_time": "2021-04-01T05:04:09.628074Z",
     "start_time": "2021-04-01T05:04:04.882715Z"
    },
    "hidden": true
   },
   "outputs": [],
   "source": [
    "pd.Series(predictions).shape\n",
    "OUTPUT_FOLDER.mkdir(exist_ok=True, parents=True)\n",
    "pd.Series(predictions).to_csv(OUTPUT_FOLDER/\"predictions.csv\")"
   ]
  },
  {
   "cell_type": "code",
   "execution_count": 4,
   "id": "scenic-establishment",
   "metadata": {
    "ExecuteTime": {
     "end_time": "2021-04-01T05:04:10.762201Z",
     "start_time": "2021-04-01T05:04:09.630056Z"
    },
    "hidden": true
   },
   "outputs": [
    {
     "name": "stdout",
     "output_type": "stream",
     "text": [
      "(501808, 313)\n",
      "era    120\n",
      "dtype: int64\n",
      "era    era99\n",
      "dtype: object\n",
      "501808\n",
      "\n",
      "(1671309, 313)\n",
      "era    330\n",
      "dtype: int64\n",
      "era    eraX\n",
      "dtype: object\n",
      "1671309\n",
      "\n"
     ]
    }
   ],
   "source": [
    "for data in [training_data, tournament_data]:\n",
    "    print(data.shape)\n",
    "    print(data[['era']].nunique())\n",
    "    print(data[['era']].max())\n",
    "    print(data.index.nunique())\n",
    "    data.head()\n",
    "    print('')\n",
    "    "
   ]
  },
  {
   "cell_type": "code",
   "execution_count": 14,
   "id": "ancient-participant",
   "metadata": {
    "ExecuteTime": {
     "end_time": "2021-04-01T05:12:20.777900Z",
     "start_time": "2021-04-01T05:12:20.758759Z"
    },
    "hidden": true
   },
   "outputs": [
    {
     "data": {
      "text/plain": [
       "array([0.49014705, 0.48458785, 0.5313182 , ..., 0.50375384, 0.47683442,\n",
       "       0.4946108 ], dtype=float32)"
      ]
     },
     "execution_count": 14,
     "metadata": {},
     "output_type": "execute_result"
    }
   ],
   "source": [
    "predictions"
   ]
  },
  {
   "cell_type": "code",
   "execution_count": 19,
   "id": "finite-edition",
   "metadata": {
    "ExecuteTime": {
     "end_time": "2021-04-01T05:18:28.558544Z",
     "start_time": "2021-04-01T05:18:28.525359Z"
    },
    "hidden": true
   },
   "outputs": [
    {
     "data": {
      "text/html": [
       "<div>\n",
       "<style scoped>\n",
       "    .dataframe tbody tr th:only-of-type {\n",
       "        vertical-align: middle;\n",
       "    }\n",
       "\n",
       "    .dataframe tbody tr th {\n",
       "        vertical-align: top;\n",
       "    }\n",
       "\n",
       "    .dataframe thead th {\n",
       "        text-align: right;\n",
       "    }\n",
       "</style>\n",
       "<table border=\"1\" class=\"dataframe\">\n",
       "  <thead>\n",
       "    <tr style=\"text-align: right;\">\n",
       "      <th></th>\n",
       "      <th>era</th>\n",
       "      <th>data_type</th>\n",
       "      <th>feature_intelligence1</th>\n",
       "      <th>feature_intelligence2</th>\n",
       "      <th>feature_intelligence3</th>\n",
       "      <th>feature_intelligence4</th>\n",
       "      <th>feature_intelligence5</th>\n",
       "      <th>feature_intelligence6</th>\n",
       "      <th>feature_intelligence7</th>\n",
       "      <th>feature_intelligence8</th>\n",
       "      <th>...</th>\n",
       "      <th>feature_wisdom38</th>\n",
       "      <th>feature_wisdom39</th>\n",
       "      <th>feature_wisdom40</th>\n",
       "      <th>feature_wisdom41</th>\n",
       "      <th>feature_wisdom42</th>\n",
       "      <th>feature_wisdom43</th>\n",
       "      <th>feature_wisdom44</th>\n",
       "      <th>feature_wisdom45</th>\n",
       "      <th>feature_wisdom46</th>\n",
       "      <th>target</th>\n",
       "    </tr>\n",
       "    <tr>\n",
       "      <th>id</th>\n",
       "      <th></th>\n",
       "      <th></th>\n",
       "      <th></th>\n",
       "      <th></th>\n",
       "      <th></th>\n",
       "      <th></th>\n",
       "      <th></th>\n",
       "      <th></th>\n",
       "      <th></th>\n",
       "      <th></th>\n",
       "      <th></th>\n",
       "      <th></th>\n",
       "      <th></th>\n",
       "      <th></th>\n",
       "      <th></th>\n",
       "      <th></th>\n",
       "      <th></th>\n",
       "      <th></th>\n",
       "      <th></th>\n",
       "      <th></th>\n",
       "      <th></th>\n",
       "    </tr>\n",
       "  </thead>\n",
       "  <tbody>\n",
       "    <tr>\n",
       "      <th>n0003aa52cab36c2</th>\n",
       "      <td>era121</td>\n",
       "      <td>validation</td>\n",
       "      <td>0.25</td>\n",
       "      <td>0.75</td>\n",
       "      <td>0.50</td>\n",
       "      <td>0.50</td>\n",
       "      <td>0.0</td>\n",
       "      <td>0.75</td>\n",
       "      <td>0.5</td>\n",
       "      <td>0.25</td>\n",
       "      <td>...</td>\n",
       "      <td>0.75</td>\n",
       "      <td>0.75</td>\n",
       "      <td>1.00</td>\n",
       "      <td>0.75</td>\n",
       "      <td>0.50</td>\n",
       "      <td>0.5</td>\n",
       "      <td>1.0</td>\n",
       "      <td>0.00</td>\n",
       "      <td>0.00</td>\n",
       "      <td>0.25</td>\n",
       "    </tr>\n",
       "    <tr>\n",
       "      <th>n000920ed083903f</th>\n",
       "      <td>era121</td>\n",
       "      <td>validation</td>\n",
       "      <td>0.75</td>\n",
       "      <td>0.50</td>\n",
       "      <td>0.75</td>\n",
       "      <td>1.00</td>\n",
       "      <td>0.5</td>\n",
       "      <td>0.00</td>\n",
       "      <td>0.0</td>\n",
       "      <td>0.75</td>\n",
       "      <td>...</td>\n",
       "      <td>0.50</td>\n",
       "      <td>0.50</td>\n",
       "      <td>0.75</td>\n",
       "      <td>1.00</td>\n",
       "      <td>0.75</td>\n",
       "      <td>0.5</td>\n",
       "      <td>0.5</td>\n",
       "      <td>0.50</td>\n",
       "      <td>0.50</td>\n",
       "      <td>0.50</td>\n",
       "    </tr>\n",
       "    <tr>\n",
       "      <th>n0038e640522c4a6</th>\n",
       "      <td>era121</td>\n",
       "      <td>validation</td>\n",
       "      <td>1.00</td>\n",
       "      <td>0.00</td>\n",
       "      <td>0.00</td>\n",
       "      <td>1.00</td>\n",
       "      <td>1.0</td>\n",
       "      <td>1.00</td>\n",
       "      <td>1.0</td>\n",
       "      <td>1.00</td>\n",
       "      <td>...</td>\n",
       "      <td>0.00</td>\n",
       "      <td>0.00</td>\n",
       "      <td>0.50</td>\n",
       "      <td>0.25</td>\n",
       "      <td>0.00</td>\n",
       "      <td>0.0</td>\n",
       "      <td>0.5</td>\n",
       "      <td>0.50</td>\n",
       "      <td>0.00</td>\n",
       "      <td>1.00</td>\n",
       "    </tr>\n",
       "    <tr>\n",
       "      <th>n004ac94a87dc54b</th>\n",
       "      <td>era121</td>\n",
       "      <td>validation</td>\n",
       "      <td>0.75</td>\n",
       "      <td>1.00</td>\n",
       "      <td>1.00</td>\n",
       "      <td>0.50</td>\n",
       "      <td>0.0</td>\n",
       "      <td>0.00</td>\n",
       "      <td>0.0</td>\n",
       "      <td>0.50</td>\n",
       "      <td>...</td>\n",
       "      <td>0.00</td>\n",
       "      <td>0.00</td>\n",
       "      <td>0.00</td>\n",
       "      <td>0.25</td>\n",
       "      <td>0.00</td>\n",
       "      <td>0.0</td>\n",
       "      <td>0.0</td>\n",
       "      <td>0.25</td>\n",
       "      <td>0.25</td>\n",
       "      <td>0.50</td>\n",
       "    </tr>\n",
       "    <tr>\n",
       "      <th>n0052fe97ea0c05f</th>\n",
       "      <td>era121</td>\n",
       "      <td>validation</td>\n",
       "      <td>0.25</td>\n",
       "      <td>0.50</td>\n",
       "      <td>0.50</td>\n",
       "      <td>0.25</td>\n",
       "      <td>1.0</td>\n",
       "      <td>0.50</td>\n",
       "      <td>0.5</td>\n",
       "      <td>0.25</td>\n",
       "      <td>...</td>\n",
       "      <td>0.50</td>\n",
       "      <td>0.75</td>\n",
       "      <td>0.00</td>\n",
       "      <td>0.00</td>\n",
       "      <td>0.75</td>\n",
       "      <td>1.0</td>\n",
       "      <td>0.0</td>\n",
       "      <td>0.25</td>\n",
       "      <td>1.00</td>\n",
       "      <td>0.75</td>\n",
       "    </tr>\n",
       "  </tbody>\n",
       "</table>\n",
       "<p>5 rows × 313 columns</p>\n",
       "</div>"
      ],
      "text/plain": [
       "                     era   data_type  feature_intelligence1  \\\n",
       "id                                                            \n",
       "n0003aa52cab36c2  era121  validation                   0.25   \n",
       "n000920ed083903f  era121  validation                   0.75   \n",
       "n0038e640522c4a6  era121  validation                   1.00   \n",
       "n004ac94a87dc54b  era121  validation                   0.75   \n",
       "n0052fe97ea0c05f  era121  validation                   0.25   \n",
       "\n",
       "                  feature_intelligence2  feature_intelligence3  \\\n",
       "id                                                               \n",
       "n0003aa52cab36c2                   0.75                   0.50   \n",
       "n000920ed083903f                   0.50                   0.75   \n",
       "n0038e640522c4a6                   0.00                   0.00   \n",
       "n004ac94a87dc54b                   1.00                   1.00   \n",
       "n0052fe97ea0c05f                   0.50                   0.50   \n",
       "\n",
       "                  feature_intelligence4  feature_intelligence5  \\\n",
       "id                                                               \n",
       "n0003aa52cab36c2                   0.50                    0.0   \n",
       "n000920ed083903f                   1.00                    0.5   \n",
       "n0038e640522c4a6                   1.00                    1.0   \n",
       "n004ac94a87dc54b                   0.50                    0.0   \n",
       "n0052fe97ea0c05f                   0.25                    1.0   \n",
       "\n",
       "                  feature_intelligence6  feature_intelligence7  \\\n",
       "id                                                               \n",
       "n0003aa52cab36c2                   0.75                    0.5   \n",
       "n000920ed083903f                   0.00                    0.0   \n",
       "n0038e640522c4a6                   1.00                    1.0   \n",
       "n004ac94a87dc54b                   0.00                    0.0   \n",
       "n0052fe97ea0c05f                   0.50                    0.5   \n",
       "\n",
       "                  feature_intelligence8  ...  feature_wisdom38  \\\n",
       "id                                       ...                     \n",
       "n0003aa52cab36c2                   0.25  ...              0.75   \n",
       "n000920ed083903f                   0.75  ...              0.50   \n",
       "n0038e640522c4a6                   1.00  ...              0.00   \n",
       "n004ac94a87dc54b                   0.50  ...              0.00   \n",
       "n0052fe97ea0c05f                   0.25  ...              0.50   \n",
       "\n",
       "                  feature_wisdom39  feature_wisdom40  feature_wisdom41  \\\n",
       "id                                                                       \n",
       "n0003aa52cab36c2              0.75              1.00              0.75   \n",
       "n000920ed083903f              0.50              0.75              1.00   \n",
       "n0038e640522c4a6              0.00              0.50              0.25   \n",
       "n004ac94a87dc54b              0.00              0.00              0.25   \n",
       "n0052fe97ea0c05f              0.75              0.00              0.00   \n",
       "\n",
       "                  feature_wisdom42  feature_wisdom43  feature_wisdom44  \\\n",
       "id                                                                       \n",
       "n0003aa52cab36c2              0.50               0.5               1.0   \n",
       "n000920ed083903f              0.75               0.5               0.5   \n",
       "n0038e640522c4a6              0.00               0.0               0.5   \n",
       "n004ac94a87dc54b              0.00               0.0               0.0   \n",
       "n0052fe97ea0c05f              0.75               1.0               0.0   \n",
       "\n",
       "                  feature_wisdom45  feature_wisdom46  target  \n",
       "id                                                            \n",
       "n0003aa52cab36c2              0.00              0.00    0.25  \n",
       "n000920ed083903f              0.50              0.50    0.50  \n",
       "n0038e640522c4a6              0.50              0.00    1.00  \n",
       "n004ac94a87dc54b              0.25              0.25    0.50  \n",
       "n0052fe97ea0c05f              0.25              1.00    0.75  \n",
       "\n",
       "[5 rows x 313 columns]"
      ]
     },
     "execution_count": 19,
     "metadata": {},
     "output_type": "execute_result"
    }
   ],
   "source": [
    "training_data.head()\n",
    "tournament_data.head()"
   ]
  },
  {
   "cell_type": "code",
   "execution_count": 18,
   "id": "comprehensive-library",
   "metadata": {
    "ExecuteTime": {
     "end_time": "2021-04-01T05:15:56.022286Z",
     "start_time": "2021-04-01T05:15:50.197893Z"
    },
    "hidden": true,
    "scrolled": false
   },
   "outputs": [
    {
     "data": {
      "text/plain": [
       "(1671309, 313)"
      ]
     },
     "execution_count": 18,
     "metadata": {},
     "output_type": "execute_result"
    },
    {
     "data": {
      "text/html": [
       "<div>\n",
       "<style scoped>\n",
       "    .dataframe tbody tr th:only-of-type {\n",
       "        vertical-align: middle;\n",
       "    }\n",
       "\n",
       "    .dataframe tbody tr th {\n",
       "        vertical-align: top;\n",
       "    }\n",
       "\n",
       "    .dataframe thead th {\n",
       "        text-align: right;\n",
       "    }\n",
       "</style>\n",
       "<table border=\"1\" class=\"dataframe\">\n",
       "  <thead>\n",
       "    <tr style=\"text-align: right;\">\n",
       "      <th></th>\n",
       "      <th>era</th>\n",
       "      <th>data_type</th>\n",
       "      <th>feature_intelligence1</th>\n",
       "      <th>feature_intelligence2</th>\n",
       "      <th>feature_intelligence3</th>\n",
       "      <th>feature_intelligence4</th>\n",
       "      <th>feature_intelligence5</th>\n",
       "      <th>feature_intelligence6</th>\n",
       "      <th>feature_intelligence7</th>\n",
       "      <th>feature_intelligence8</th>\n",
       "      <th>...</th>\n",
       "      <th>feature_wisdom38</th>\n",
       "      <th>feature_wisdom39</th>\n",
       "      <th>feature_wisdom40</th>\n",
       "      <th>feature_wisdom41</th>\n",
       "      <th>feature_wisdom42</th>\n",
       "      <th>feature_wisdom43</th>\n",
       "      <th>feature_wisdom44</th>\n",
       "      <th>feature_wisdom45</th>\n",
       "      <th>feature_wisdom46</th>\n",
       "      <th>target</th>\n",
       "    </tr>\n",
       "    <tr>\n",
       "      <th>id</th>\n",
       "      <th></th>\n",
       "      <th></th>\n",
       "      <th></th>\n",
       "      <th></th>\n",
       "      <th></th>\n",
       "      <th></th>\n",
       "      <th></th>\n",
       "      <th></th>\n",
       "      <th></th>\n",
       "      <th></th>\n",
       "      <th></th>\n",
       "      <th></th>\n",
       "      <th></th>\n",
       "      <th></th>\n",
       "      <th></th>\n",
       "      <th></th>\n",
       "      <th></th>\n",
       "      <th></th>\n",
       "      <th></th>\n",
       "      <th></th>\n",
       "      <th></th>\n",
       "    </tr>\n",
       "  </thead>\n",
       "  <tbody>\n",
       "    <tr>\n",
       "      <th>n0003aa52cab36c2</th>\n",
       "      <td>era121</td>\n",
       "      <td>validation</td>\n",
       "      <td>0.25</td>\n",
       "      <td>0.75</td>\n",
       "      <td>0.50</td>\n",
       "      <td>0.50</td>\n",
       "      <td>0.0</td>\n",
       "      <td>0.75</td>\n",
       "      <td>0.5</td>\n",
       "      <td>0.25</td>\n",
       "      <td>...</td>\n",
       "      <td>0.75</td>\n",
       "      <td>0.75</td>\n",
       "      <td>1.00</td>\n",
       "      <td>0.75</td>\n",
       "      <td>0.50</td>\n",
       "      <td>0.5</td>\n",
       "      <td>1.0</td>\n",
       "      <td>0.00</td>\n",
       "      <td>0.00</td>\n",
       "      <td>0.25</td>\n",
       "    </tr>\n",
       "    <tr>\n",
       "      <th>n000920ed083903f</th>\n",
       "      <td>era121</td>\n",
       "      <td>validation</td>\n",
       "      <td>0.75</td>\n",
       "      <td>0.50</td>\n",
       "      <td>0.75</td>\n",
       "      <td>1.00</td>\n",
       "      <td>0.5</td>\n",
       "      <td>0.00</td>\n",
       "      <td>0.0</td>\n",
       "      <td>0.75</td>\n",
       "      <td>...</td>\n",
       "      <td>0.50</td>\n",
       "      <td>0.50</td>\n",
       "      <td>0.75</td>\n",
       "      <td>1.00</td>\n",
       "      <td>0.75</td>\n",
       "      <td>0.5</td>\n",
       "      <td>0.5</td>\n",
       "      <td>0.50</td>\n",
       "      <td>0.50</td>\n",
       "      <td>0.50</td>\n",
       "    </tr>\n",
       "    <tr>\n",
       "      <th>n0038e640522c4a6</th>\n",
       "      <td>era121</td>\n",
       "      <td>validation</td>\n",
       "      <td>1.00</td>\n",
       "      <td>0.00</td>\n",
       "      <td>0.00</td>\n",
       "      <td>1.00</td>\n",
       "      <td>1.0</td>\n",
       "      <td>1.00</td>\n",
       "      <td>1.0</td>\n",
       "      <td>1.00</td>\n",
       "      <td>...</td>\n",
       "      <td>0.00</td>\n",
       "      <td>0.00</td>\n",
       "      <td>0.50</td>\n",
       "      <td>0.25</td>\n",
       "      <td>0.00</td>\n",
       "      <td>0.0</td>\n",
       "      <td>0.5</td>\n",
       "      <td>0.50</td>\n",
       "      <td>0.00</td>\n",
       "      <td>1.00</td>\n",
       "    </tr>\n",
       "    <tr>\n",
       "      <th>n004ac94a87dc54b</th>\n",
       "      <td>era121</td>\n",
       "      <td>validation</td>\n",
       "      <td>0.75</td>\n",
       "      <td>1.00</td>\n",
       "      <td>1.00</td>\n",
       "      <td>0.50</td>\n",
       "      <td>0.0</td>\n",
       "      <td>0.00</td>\n",
       "      <td>0.0</td>\n",
       "      <td>0.50</td>\n",
       "      <td>...</td>\n",
       "      <td>0.00</td>\n",
       "      <td>0.00</td>\n",
       "      <td>0.00</td>\n",
       "      <td>0.25</td>\n",
       "      <td>0.00</td>\n",
       "      <td>0.0</td>\n",
       "      <td>0.0</td>\n",
       "      <td>0.25</td>\n",
       "      <td>0.25</td>\n",
       "      <td>0.50</td>\n",
       "    </tr>\n",
       "    <tr>\n",
       "      <th>n0052fe97ea0c05f</th>\n",
       "      <td>era121</td>\n",
       "      <td>validation</td>\n",
       "      <td>0.25</td>\n",
       "      <td>0.50</td>\n",
       "      <td>0.50</td>\n",
       "      <td>0.25</td>\n",
       "      <td>1.0</td>\n",
       "      <td>0.50</td>\n",
       "      <td>0.5</td>\n",
       "      <td>0.25</td>\n",
       "      <td>...</td>\n",
       "      <td>0.50</td>\n",
       "      <td>0.75</td>\n",
       "      <td>0.00</td>\n",
       "      <td>0.00</td>\n",
       "      <td>0.75</td>\n",
       "      <td>1.0</td>\n",
       "      <td>0.0</td>\n",
       "      <td>0.25</td>\n",
       "      <td>1.00</td>\n",
       "      <td>0.75</td>\n",
       "    </tr>\n",
       "  </tbody>\n",
       "</table>\n",
       "<p>5 rows × 313 columns</p>\n",
       "</div>"
      ],
      "text/plain": [
       "                     era   data_type  feature_intelligence1  \\\n",
       "id                                                            \n",
       "n0003aa52cab36c2  era121  validation                   0.25   \n",
       "n000920ed083903f  era121  validation                   0.75   \n",
       "n0038e640522c4a6  era121  validation                   1.00   \n",
       "n004ac94a87dc54b  era121  validation                   0.75   \n",
       "n0052fe97ea0c05f  era121  validation                   0.25   \n",
       "\n",
       "                  feature_intelligence2  feature_intelligence3  \\\n",
       "id                                                               \n",
       "n0003aa52cab36c2                   0.75                   0.50   \n",
       "n000920ed083903f                   0.50                   0.75   \n",
       "n0038e640522c4a6                   0.00                   0.00   \n",
       "n004ac94a87dc54b                   1.00                   1.00   \n",
       "n0052fe97ea0c05f                   0.50                   0.50   \n",
       "\n",
       "                  feature_intelligence4  feature_intelligence5  \\\n",
       "id                                                               \n",
       "n0003aa52cab36c2                   0.50                    0.0   \n",
       "n000920ed083903f                   1.00                    0.5   \n",
       "n0038e640522c4a6                   1.00                    1.0   \n",
       "n004ac94a87dc54b                   0.50                    0.0   \n",
       "n0052fe97ea0c05f                   0.25                    1.0   \n",
       "\n",
       "                  feature_intelligence6  feature_intelligence7  \\\n",
       "id                                                               \n",
       "n0003aa52cab36c2                   0.75                    0.5   \n",
       "n000920ed083903f                   0.00                    0.0   \n",
       "n0038e640522c4a6                   1.00                    1.0   \n",
       "n004ac94a87dc54b                   0.00                    0.0   \n",
       "n0052fe97ea0c05f                   0.50                    0.5   \n",
       "\n",
       "                  feature_intelligence8  ...  feature_wisdom38  \\\n",
       "id                                       ...                     \n",
       "n0003aa52cab36c2                   0.25  ...              0.75   \n",
       "n000920ed083903f                   0.75  ...              0.50   \n",
       "n0038e640522c4a6                   1.00  ...              0.00   \n",
       "n004ac94a87dc54b                   0.50  ...              0.00   \n",
       "n0052fe97ea0c05f                   0.25  ...              0.50   \n",
       "\n",
       "                  feature_wisdom39  feature_wisdom40  feature_wisdom41  \\\n",
       "id                                                                       \n",
       "n0003aa52cab36c2              0.75              1.00              0.75   \n",
       "n000920ed083903f              0.50              0.75              1.00   \n",
       "n0038e640522c4a6              0.00              0.50              0.25   \n",
       "n004ac94a87dc54b              0.00              0.00              0.25   \n",
       "n0052fe97ea0c05f              0.75              0.00              0.00   \n",
       "\n",
       "                  feature_wisdom42  feature_wisdom43  feature_wisdom44  \\\n",
       "id                                                                       \n",
       "n0003aa52cab36c2              0.50               0.5               1.0   \n",
       "n000920ed083903f              0.75               0.5               0.5   \n",
       "n0038e640522c4a6              0.00               0.0               0.5   \n",
       "n004ac94a87dc54b              0.00               0.0               0.0   \n",
       "n0052fe97ea0c05f              0.75               1.0               0.0   \n",
       "\n",
       "                  feature_wisdom45  feature_wisdom46  target  \n",
       "id                                                            \n",
       "n0003aa52cab36c2              0.00              0.00    0.25  \n",
       "n000920ed083903f              0.50              0.50    0.50  \n",
       "n0038e640522c4a6              0.50              0.00    1.00  \n",
       "n004ac94a87dc54b              0.25              0.25    0.50  \n",
       "n0052fe97ea0c05f              0.25              1.00    0.75  \n",
       "\n",
       "[5 rows x 313 columns]"
      ]
     },
     "execution_count": 18,
     "metadata": {},
     "output_type": "execute_result"
    },
    {
     "name": "stdout",
     "output_type": "stream",
     "text": [
      "Repeated values in era121: len 4573, unique values: 4556\n",
      "Repeated values in era122: len 4658, unique values: 4645\n",
      "Repeated values in era123: len 4609, unique values: 4598\n",
      "Repeated values in era124: len 4630, unique values: 4618\n",
      "Repeated values in era125: len 4698, unique values: 4684\n",
      "Repeated values in era126: len 4682, unique values: 4660\n",
      "Repeated values in era127: len 4688, unique values: 4675\n",
      "Repeated values in era128: len 4636, unique values: 4625\n",
      "Repeated values in era129: len 4705, unique values: 4697\n",
      "Repeated values in era130: len 4756, unique values: 4749\n",
      "Repeated values in era131: len 4814, unique values: 4802\n",
      "Repeated values in era132: len 4812, unique values: 4799\n",
      "Repeated values in era575: len 4813, unique values: 4798\n",
      "Repeated values in era576: len 4827, unique values: 4821\n",
      "Repeated values in era577: len 4856, unique values: 4843\n",
      "Repeated values in era578: len 4863, unique values: 4846\n",
      "Repeated values in era579: len 4859, unique values: 4852\n",
      "Repeated values in era580: len 4860, unique values: 4851\n",
      "Repeated values in era581: len 4920, unique values: 4910\n",
      "Repeated values in era582: len 4894, unique values: 4880\n",
      "Repeated values in era583: len 4897, unique values: 4888\n",
      "Repeated values in era584: len 4949, unique values: 4934\n",
      "Repeated values in era585: len 4983, unique values: 4974\n",
      "Repeated values in era586: len 5000, unique values: 4980\n",
      "Repeated values in era587: len 5003, unique values: 4988\n",
      "Repeated values in era588: len 4999, unique values: 4985\n",
      "Repeated values in era589: len 4983, unique values: 4972\n",
      "Repeated values in era590: len 5009, unique values: 4997\n",
      "Repeated values in era591: len 5000, unique values: 4987\n",
      "Repeated values in era592: len 5018, unique values: 5013\n",
      "Repeated values in era593: len 4981, unique values: 4963\n",
      "Repeated values in era594: len 4976, unique values: 4960\n",
      "Repeated values in era595: len 4987, unique values: 4975\n",
      "Repeated values in era596: len 4965, unique values: 4955\n",
      "Repeated values in era597: len 4980, unique values: 4963\n",
      "Repeated values in era598: len 4992, unique values: 4979\n",
      "Repeated values in era599: len 5005, unique values: 4993\n",
      "Repeated values in era600: len 5016, unique values: 5003\n",
      "Repeated values in era601: len 5031, unique values: 5014\n",
      "Repeated values in era602: len 5039, unique values: 5026\n"
     ]
    },
    {
     "ename": "KeyboardInterrupt",
     "evalue": "",
     "output_type": "error",
     "traceback": [
      "\u001b[0;31m---------------------------------------------------------------------------\u001b[0m",
      "\u001b[0;31mKeyboardInterrupt\u001b[0m                         Traceback (most recent call last)",
      "\u001b[0;32m<ipython-input-18-3298dc972908>\u001b[0m in \u001b[0;36m<module>\u001b[0;34m\u001b[0m\n\u001b[1;32m      4\u001b[0m \u001b[0;32mfor\u001b[0m \u001b[0mera\u001b[0m \u001b[0;32min\u001b[0m \u001b[0mtournament_data\u001b[0m\u001b[0;34m[\u001b[0m\u001b[0;34m'era'\u001b[0m\u001b[0;34m]\u001b[0m\u001b[0;34m.\u001b[0m\u001b[0munique\u001b[0m\u001b[0;34m(\u001b[0m\u001b[0;34m)\u001b[0m\u001b[0;34m:\u001b[0m\u001b[0;34m\u001b[0m\u001b[0;34m\u001b[0m\u001b[0m\n\u001b[1;32m      5\u001b[0m     \u001b[0mids_in_era\u001b[0m \u001b[0;34m=\u001b[0m \u001b[0mtournament_data\u001b[0m\u001b[0;34m[\u001b[0m\u001b[0mtournament_data\u001b[0m\u001b[0;34m[\u001b[0m\u001b[0;34m'era'\u001b[0m\u001b[0;34m]\u001b[0m \u001b[0;34m==\u001b[0m \u001b[0mera\u001b[0m\u001b[0;34m]\u001b[0m\u001b[0;34m.\u001b[0m\u001b[0mindex\u001b[0m\u001b[0;34m\u001b[0m\u001b[0;34m\u001b[0m\u001b[0m\n\u001b[0;32m----> 6\u001b[0;31m     \u001b[0mera_preds\u001b[0m \u001b[0;34m=\u001b[0m \u001b[0mpredictions\u001b[0m\u001b[0;34m[\u001b[0m\u001b[0mpredictions\u001b[0m\u001b[0;34m.\u001b[0m\u001b[0mindex\u001b[0m\u001b[0;34m.\u001b[0m\u001b[0misin\u001b[0m\u001b[0;34m(\u001b[0m\u001b[0mids_in_era\u001b[0m\u001b[0;34m)\u001b[0m\u001b[0;34m]\u001b[0m\u001b[0;34m\u001b[0m\u001b[0;34m\u001b[0m\u001b[0m\n\u001b[0m\u001b[1;32m      7\u001b[0m \u001b[0;34m\u001b[0m\u001b[0m\n\u001b[1;32m      8\u001b[0m     \u001b[0;32mif\u001b[0m \u001b[0mera_preds\u001b[0m\u001b[0;34m[\u001b[0m\u001b[0;34m'predictions'\u001b[0m\u001b[0;34m]\u001b[0m\u001b[0;34m.\u001b[0m\u001b[0mnunique\u001b[0m\u001b[0;34m(\u001b[0m\u001b[0;34m)\u001b[0m \u001b[0;34m!=\u001b[0m \u001b[0mlen\u001b[0m\u001b[0;34m(\u001b[0m\u001b[0mera_preds\u001b[0m\u001b[0;34m)\u001b[0m\u001b[0;34m:\u001b[0m\u001b[0;34m\u001b[0m\u001b[0;34m\u001b[0m\u001b[0m\n",
      "\u001b[0;32m~/anaconda3/envs/fsdl-text-recognizer-2021/lib/python3.6/site-packages/pandas/core/indexes/base.py\u001b[0m in \u001b[0;36misin\u001b[0;34m(self, values, level)\u001b[0m\n\u001b[1;32m   4920\u001b[0m         \u001b[0;32mif\u001b[0m \u001b[0mlevel\u001b[0m \u001b[0;32mis\u001b[0m \u001b[0;32mnot\u001b[0m \u001b[0;32mNone\u001b[0m\u001b[0;34m:\u001b[0m\u001b[0;34m\u001b[0m\u001b[0;34m\u001b[0m\u001b[0m\n\u001b[1;32m   4921\u001b[0m             \u001b[0mself\u001b[0m\u001b[0;34m.\u001b[0m\u001b[0m_validate_index_level\u001b[0m\u001b[0;34m(\u001b[0m\u001b[0mlevel\u001b[0m\u001b[0;34m)\u001b[0m\u001b[0;34m\u001b[0m\u001b[0;34m\u001b[0m\u001b[0m\n\u001b[0;32m-> 4922\u001b[0;31m         \u001b[0;32mreturn\u001b[0m \u001b[0malgos\u001b[0m\u001b[0;34m.\u001b[0m\u001b[0misin\u001b[0m\u001b[0;34m(\u001b[0m\u001b[0mself\u001b[0m\u001b[0;34m,\u001b[0m \u001b[0mvalues\u001b[0m\u001b[0;34m)\u001b[0m\u001b[0;34m\u001b[0m\u001b[0;34m\u001b[0m\u001b[0m\n\u001b[0m\u001b[1;32m   4923\u001b[0m \u001b[0;34m\u001b[0m\u001b[0m\n\u001b[1;32m   4924\u001b[0m     \u001b[0;32mdef\u001b[0m \u001b[0m_get_string_slice\u001b[0m\u001b[0;34m(\u001b[0m\u001b[0mself\u001b[0m\u001b[0;34m,\u001b[0m \u001b[0mkey\u001b[0m\u001b[0;34m:\u001b[0m \u001b[0mstr_t\u001b[0m\u001b[0;34m,\u001b[0m \u001b[0muse_lhs\u001b[0m\u001b[0;34m:\u001b[0m \u001b[0mbool\u001b[0m \u001b[0;34m=\u001b[0m \u001b[0;32mTrue\u001b[0m\u001b[0;34m,\u001b[0m \u001b[0muse_rhs\u001b[0m\u001b[0;34m:\u001b[0m \u001b[0mbool\u001b[0m \u001b[0;34m=\u001b[0m \u001b[0;32mTrue\u001b[0m\u001b[0;34m)\u001b[0m\u001b[0;34m:\u001b[0m\u001b[0;34m\u001b[0m\u001b[0;34m\u001b[0m\u001b[0m\n",
      "\u001b[0;32m~/anaconda3/envs/fsdl-text-recognizer-2021/lib/python3.6/site-packages/pandas/core/algorithms.py\u001b[0m in \u001b[0;36misin\u001b[0;34m(comps, values)\u001b[0m\n\u001b[1;32m    473\u001b[0m             \u001b[0mcomps\u001b[0m \u001b[0;34m=\u001b[0m \u001b[0mcomps\u001b[0m\u001b[0;34m.\u001b[0m\u001b[0mastype\u001b[0m\u001b[0;34m(\u001b[0m\u001b[0mobject\u001b[0m\u001b[0;34m)\u001b[0m\u001b[0;34m\u001b[0m\u001b[0;34m\u001b[0m\u001b[0m\n\u001b[1;32m    474\u001b[0m \u001b[0;34m\u001b[0m\u001b[0m\n\u001b[0;32m--> 475\u001b[0;31m     \u001b[0;32mreturn\u001b[0m \u001b[0mf\u001b[0m\u001b[0;34m(\u001b[0m\u001b[0mcomps\u001b[0m\u001b[0;34m,\u001b[0m \u001b[0mvalues\u001b[0m\u001b[0;34m)\u001b[0m\u001b[0;34m\u001b[0m\u001b[0;34m\u001b[0m\u001b[0m\n\u001b[0m\u001b[1;32m    476\u001b[0m \u001b[0;34m\u001b[0m\u001b[0m\n\u001b[1;32m    477\u001b[0m \u001b[0;34m\u001b[0m\u001b[0m\n",
      "\u001b[0;31mKeyboardInterrupt\u001b[0m: "
     ]
    }
   ],
   "source": [
    "tournament_data.shape\n",
    "tournament_data.head()\n",
    "\n",
    "for era in tournament_data['era'].unique():\n",
    "    ids_in_era = tournament_data[tournament_data['era'] == era].index\n",
    "    era_preds = predictions[predictions.index.isin(ids_in_era)]\n",
    "    \n",
    "    if era_preds['predictions'].nunique() != len(era_preds):\n",
    "        print(f'Repeated values in {era}: len {len(era_preds)}, unique values: {era_preds[\"predictions\"].nunique()}')"
   ]
  },
  {
   "cell_type": "code",
   "execution_count": null,
   "id": "public-moral",
   "metadata": {
    "hidden": true
   },
   "outputs": [],
   "source": []
  },
  {
   "cell_type": "code",
   "execution_count": null,
   "id": "considerable-rugby",
   "metadata": {
    "hidden": true
   },
   "outputs": [],
   "source": []
  },
  {
   "cell_type": "code",
   "execution_count": null,
   "id": "offensive-consultancy",
   "metadata": {
    "hidden": true
   },
   "outputs": [],
   "source": []
  },
  {
   "cell_type": "code",
   "execution_count": null,
   "id": "spectacular-beverage",
   "metadata": {
    "hidden": true
   },
   "outputs": [],
   "source": []
  },
  {
   "cell_type": "code",
   "execution_count": null,
   "id": "cubic-blogger",
   "metadata": {
    "hidden": true
   },
   "outputs": [],
   "source": []
  },
  {
   "cell_type": "code",
   "execution_count": null,
   "id": "informed-camel",
   "metadata": {
    "hidden": true
   },
   "outputs": [],
   "source": []
  },
  {
   "cell_type": "code",
   "execution_count": null,
   "id": "cleared-racing",
   "metadata": {
    "hidden": true
   },
   "outputs": [],
   "source": []
  }
 ],
 "metadata": {
  "kernelspec": {
   "display_name": "Python 3",
   "language": "python",
   "name": "python3"
  },
  "language_info": {
   "codemirror_mode": {
    "name": "ipython",
    "version": 3
   },
   "file_extension": ".py",
   "mimetype": "text/x-python",
   "name": "python",
   "nbconvert_exporter": "python",
   "pygments_lexer": "ipython3",
   "version": "3.7.10"
  }
 },
 "nbformat": 4,
 "nbformat_minor": 5
}
