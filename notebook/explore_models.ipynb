{
 "cells": [
  {
   "cell_type": "code",
   "execution_count": null,
   "id": "weird-structure",
   "metadata": {
    "ExecuteTime": {
     "end_time": "2021-04-30T12:51:04.531590Z",
     "start_time": "2021-04-30T12:51:04.260813Z"
    }
   },
   "outputs": [],
   "source": [
    "%load_ext autoreload\n",
    "%autoreload 2\n",
    "%matplotlib inline\n",
    "\n",
    "from IPython.core.interactiveshell import InteractiveShell\n",
    "InteractiveShell.ast_node_interactivity = \"all\""
   ]
  },
  {
   "cell_type": "code",
   "execution_count": null,
   "id": "13a8277d",
   "metadata": {
    "ExecuteTime": {
     "end_time": "2021-04-30T14:59:33.342611Z",
     "start_time": "2021-04-30T14:59:32.685733Z"
    }
   },
   "outputs": [],
   "source": [
    "data_folder = '/home/pica/nas_pica/Data/numerai/'\n",
    "\n",
    "from numebot.secret import PUBLIC_ID, SECRET_KEY\n",
    "from numebot.round_manager import RoundManager\n",
    "\n",
    "napi = numerapi.NumerAPI()\n",
    "rm = RoundManager(data_folder, \n",
    "                  public_id=PUBLIC_ID, \n",
    "                  secret_key=SECRET_KEY, \n",
    "                  #nrows=50000, testing=True\n",
    "                 )\n",
    "\n",
    "# Get list of models with their model file\n",
    "rm.models_info()"
   ]
  },
  {
   "cell_type": "code",
   "execution_count": null,
   "id": "d4803de1",
   "metadata": {
    "ExecuteTime": {
     "end_time": "2021-04-30T15:00:42.624609Z",
     "start_time": "2021-04-30T14:59:37.155599Z"
    }
   },
   "outputs": [],
   "source": [
    "# Get predictions for each model\n",
    "rm.generate_predictions_for_all_models()"
   ]
  },
  {
   "cell_type": "code",
   "execution_count": null,
   "id": "47e75abc",
   "metadata": {},
   "outputs": [],
   "source": [
    "models_info = rm.get_submission_status_and_leaderboard_for_all_models()\n",
    "models_info.shape\n",
    "\n",
    "models_info"
   ]
  },
  {
   "cell_type": "code",
   "execution_count": null,
   "id": "258b3cbb",
   "metadata": {},
   "outputs": [],
   "source": [
    "# Submit predictions (test with rpica_test_3)\n",
    "# Can I check if I submitted? (for example requesting the scoring)\n",
    "rm.submit_predictions()"
   ]
  },
  {
   "cell_type": "code",
   "execution_count": null,
   "id": "de656e4c",
   "metadata": {
    "ExecuteTime": {
     "end_time": "2021-04-18T15:19:57.748778Z",
     "start_time": "2021-04-18T15:19:57.740475Z"
    }
   },
   "outputs": [],
   "source": [
    "# check if a new round has started\n",
    "if rm.napi.check_new_round():\n",
    "    print(\"new round has started wihtin the last 24hours!\")\n",
    "else:\n",
    "    print(\"no new round within the last 24 hours\")"
   ]
  },
  {
   "cell_type": "markdown",
   "id": "11f1ea4f",
   "metadata": {},
   "source": [
    "# Check individual model"
   ]
  },
  {
   "cell_type": "code",
   "execution_count": null,
   "id": "f038dae5",
   "metadata": {},
   "outputs": [],
   "source": [
    "import numpy as np \n",
    "import pandas as pd\n",
    "pd.options.display.max_columns = 300"
   ]
  },
  {
   "cell_type": "code",
   "execution_count": null,
   "id": "b775427f",
   "metadata": {},
   "outputs": [],
   "source": [
    "model = rm[0]\n",
    "\n",
    "status_df = model.get_weekly_submission_status(to_be_saved=False)\n",
    "lb_df = model.get_daily_leaderboard(to_be_saved=False)\n",
    "\n",
    "status_df\n",
    "lb_df"
   ]
  },
  {
   "cell_type": "markdown",
   "id": "concrete-separation",
   "metadata": {
    "ExecuteTime": {
     "end_time": "2021-04-05T05:53:42.006522Z",
     "start_time": "2021-04-05T05:53:41.175801Z"
    }
   },
   "source": [
    "## EDA"
   ]
  },
  {
   "cell_type": "code",
   "execution_count": null,
   "id": "chubby-tobago",
   "metadata": {
    "ExecuteTime": {
     "end_time": "2021-04-05T05:45:49.076194Z",
     "start_time": "2021-04-05T05:45:49.059023Z"
    }
   },
   "outputs": [],
   "source": [
    "import numpy as np\n",
    "import pandas as pd\n"
   ]
  },
  {
   "cell_type": "code",
   "execution_count": null,
   "id": "selected-colonial",
   "metadata": {
    "ExecuteTime": {
     "end_time": "2021-04-05T05:55:57.896833Z",
     "start_time": "2021-04-05T05:55:57.546675Z"
    },
    "scrolled": false
   },
   "outputs": [],
   "source": [
    "for dataset, set_name in zip([rm.data.training, rm.data.val, rm.data.test, rm.data.live], ['training', 'val', 'test', 'live']):\n",
    "    print(f'Info about {set_name}: shape {dataset.shape}')\n",
    "    #dataset[[col for col in dataset.columns if 'feature' not in col]].head(2)\n",
    "    dataset.groupby('data_type')['era'].agg(\n",
    "        ['count',\n",
    "         'min',\n",
    "         'max', \n",
    "         pd.Series.nunique, \n",
    "         lambda x: sorted(list(np.unique(x)))\n",
    "        ])"
   ]
  },
  {
   "cell_type": "code",
   "execution_count": null,
   "id": "considerable-rugby",
   "metadata": {
    "hidden": true
   },
   "outputs": [],
   "source": []
  },
  {
   "cell_type": "code",
   "execution_count": null,
   "id": "offensive-consultancy",
   "metadata": {
    "hidden": true
   },
   "outputs": [],
   "source": []
  },
  {
   "cell_type": "code",
   "execution_count": null,
   "id": "spectacular-beverage",
   "metadata": {
    "hidden": true
   },
   "outputs": [],
   "source": []
  },
  {
   "cell_type": "code",
   "execution_count": null,
   "id": "cubic-blogger",
   "metadata": {
    "hidden": true
   },
   "outputs": [],
   "source": []
  },
  {
   "cell_type": "code",
   "execution_count": null,
   "id": "informed-camel",
   "metadata": {
    "hidden": true
   },
   "outputs": [],
   "source": []
  },
  {
   "cell_type": "code",
   "execution_count": null,
   "id": "cleared-racing",
   "metadata": {
    "hidden": true
   },
   "outputs": [],
   "source": []
  }
 ],
 "metadata": {
  "kernelspec": {
   "display_name": "Python 3",
   "language": "python",
   "name": "python3"
  },
  "language_info": {
   "codemirror_mode": {
    "name": "ipython",
    "version": 3
   },
   "file_extension": ".py",
   "mimetype": "text/x-python",
   "name": "python",
   "nbconvert_exporter": "python",
   "pygments_lexer": "ipython3",
   "version": "3.7.10"
  }
 },
 "nbformat": 4,
 "nbformat_minor": 5
}
